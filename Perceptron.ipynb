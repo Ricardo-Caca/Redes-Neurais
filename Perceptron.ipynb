{
 "cells": [
  {
   "cell_type": "markdown",
   "id": "b8902d50",
   "metadata": {},
   "source": [
    "# Atividade: Petalas\n",
    "\n",
    "**INSTITUTO FEDERAL DE MINAS GERAIS BAMBUI**\n",
    "\n",
    "**Pofessor:** Ciniro Nametala\n",
    "\n",
    "**Aluno:** Ricardo Antonio"
   ]
  },
  {
   "cell_type": "code",
   "execution_count": 518,
   "id": "8086dfea",
   "metadata": {},
   "outputs": [],
   "source": [
    "import numpy as np\n",
    "import pandas as pd\n",
    "import matplotlib.pyplot as plt\n",
    "import pygwalker as pyg\n",
    "from sklearn.metrics import confusion_matrix, classification_report\n",
    "import seaborn as sns\n",
    "import plotly.graph_objects as go"
   ]
  },
  {
   "cell_type": "markdown",
   "id": "fe57ad50",
   "metadata": {},
   "source": [
    "<h2>IMPLEMENTAÇÃO DO PERCEPTRON<h2>"
   ]
  },
  {
   "cell_type": "code",
   "execution_count": 519,
   "id": "6876080b",
   "metadata": {},
   "outputs": [],
   "source": [
    "def degrau_bipolar(u):\n",
    "   if u >= 0:\n",
    "      y=1\n",
    "   else:\n",
    "      y=-1\n",
    "   return y"
   ]
  },
  {
   "cell_type": "code",
   "execution_count": 520,
   "id": "15998381",
   "metadata": {},
   "outputs": [
    {
     "name": "stdout",
     "output_type": "stream",
     "text": [
      "(30, 4)\n",
      "3\n",
      "30\n",
      "[[-0.6508  0.1097  4.0009]\n",
      " [-1.4492  0.8896  4.4005]\n",
      " [ 2.085   0.6876 12.071 ]\n",
      " [ 0.2626  1.1476  7.7985]\n",
      " [ 0.6418  1.0234  7.0427]\n",
      " [ 0.2569  0.673   8.3265]\n",
      " [ 1.1155  0.6043  7.4446]\n",
      " [ 0.0914  0.3399  7.0677]\n",
      " [ 0.0121  0.5256  4.6316]\n",
      " [-0.0429  0.466   5.4323]\n",
      " [ 0.434   0.687   8.2287]\n",
      " [ 0.2735  1.0287  7.1934]\n",
      " [ 0.4839  0.4851  7.485 ]\n",
      " [ 0.4089 -0.1267  5.5019]\n",
      " [ 1.4391  0.1614  8.5843]\n",
      " [-0.9115 -0.1973  2.1962]\n",
      " [ 0.3654  1.0475  7.4858]\n",
      " [ 0.2144  0.7515  7.1699]\n",
      " [ 0.2013  1.0014  6.5489]\n",
      " [ 0.6483  0.2183  5.8991]\n",
      " [-0.1147  0.2242  7.2435]\n",
      " [-0.797   0.8795  3.8762]\n",
      " [-1.0625  0.6366  2.4707]\n",
      " [ 0.5307  0.1285  5.6883]\n",
      " [-1.22    0.7777  1.7252]\n",
      " [ 0.3957  0.1076  5.6623]\n",
      " [-0.1013  0.5989  7.1812]\n",
      " [ 2.4482  0.9455 11.2095]\n",
      " [ 2.0149  0.6192 10.9263]\n",
      " [ 0.2012  0.2611  5.4631]]\n"
     ]
    }
   ],
   "source": [
    "#Passo 1\n",
    "\n",
    "dados = pd.read_csv('dataset_iris.csv', sep=';')\n",
    "print(dados.shape)\n",
    "n_variaveis = dados.shape[1]-1\n",
    "print(n_variaveis)\n",
    "n_amostras = dados.shape[0]\n",
    "print(n_amostras)\n",
    "# print(dados.head())\n",
    "x = dados.iloc[:, 0:n_variaveis].values\n",
    "print(x)\n",
    "dados['x1'] = pd.to_numeric(dados['x1'], errors='coerce')\n",
    "dados['x2'] = pd.to_numeric(dados['x2'], errors='coerce')\n",
    "dados['x3'] = pd.to_numeric(dados['x3'], errors='coerce')\n",
    "dados['y'] = pd.to_numeric(dados['y'], errors='coerce')"
   ]
  },
  {
   "cell_type": "code",
   "execution_count": 521,
   "id": "01ff4ed5",
   "metadata": {},
   "outputs": [
    {
     "data": {
      "application/vnd.plotly.v1+json": {
       "config": {
        "plotlyServerURL": "https://plot.ly"
       },
       "data": [
        {
         "marker": {
          "color": {
           "bdata": "AAAAAAAA8L8AAAAAAADwvwAAAAAAAPC/AAAAAAAA8D8AAAAAAADwPwAAAAAAAPC/AAAAAAAA8D8AAAAAAADwvwAAAAAAAPA/AAAAAAAA8D8AAAAAAADwvwAAAAAAAPA/AAAAAAAA8L8AAAAAAADwvwAAAAAAAPC/AAAAAAAA8L8AAAAAAADwPwAAAAAAAPA/AAAAAAAA8D8AAAAAAADwPwAAAAAAAPC/AAAAAAAA8D8AAAAAAADwPwAAAAAAAPA/AAAAAAAA8D8AAAAAAADwvwAAAAAAAPC/AAAAAAAA8D8AAAAAAADwvwAAAAAAAPA/",
           "dtype": "f8"
          },
          "colorscale": [
           [
            0,
            "#440154"
           ],
           [
            0.1111111111111111,
            "#482878"
           ],
           [
            0.2222222222222222,
            "#3e4989"
           ],
           [
            0.3333333333333333,
            "#31688e"
           ],
           [
            0.4444444444444444,
            "#26828e"
           ],
           [
            0.5555555555555556,
            "#1f9e89"
           ],
           [
            0.6666666666666666,
            "#35b779"
           ],
           [
            0.7777777777777778,
            "#6ece58"
           ],
           [
            0.8888888888888888,
            "#b5de2b"
           ],
           [
            1,
            "#fde725"
           ]
          ],
          "opacity": 0.8,
          "size": 6
         },
         "mode": "markers",
         "type": "scatter3d",
         "x": {
          "bdata": "3pOHhVrT5L+rz9VW7C/3v65H4XoUrgBAkX77OnDO0D9hVFInoInkP+LplbIMcdA/DAIrhxbZ8T/1udqK/WW3P4C3QILix4g/SS7/If32pb8tsp3vp8bbPxsv3SQGgdE/nDOitDf43j/PZtXnaivaPxHHuriNBvc/XrpJDAIr7b9tVn2utmLXP1OWIY51ccs/h6dXyjLEyT/J5T+k377kPz7o2az6XL2/Gy/dJAaB6b8AAAAAAADxvySX/5B+++A/hetRuB6F87+lvcEXJlPZP3S1FfvL7rm/oImw4emVA0DmriXkgx4AQP5D+u3rwMk/",
          "dtype": "f8"
         },
         "y": {
          "bdata": "9wZfmEwVvD/ysFBrmnfsP+JYF7fRAOY/zTtO0ZFc8j9Wn6ut2F/wP/Cnxks3ieU/LSEf9GxW4z/+Q/rt68DVPxniWBe30eA/bef7qfHS3T+WQ4ts5/vlP71SliGOdfA/zojS3uAL3z8PnDOitDfAv/CFyVTBqMQ/NxrAWyBByb/D9Shcj8LwPz81XrpJDOg/L26jAbwF8D8awFsgQfHLP4qw4emVssw/vp8aL90k7D90RpT2Bl/kP6abxCCwcsA/pSxDHOvi6D+WsgxxrIu7P3xhMlUwKuM/qMZLN4lB7j/G3LWEfNDjPxIUP8bctdA/",
          "dtype": "f8"
         },
         "z": {
          "bdata": "/kP67esAEEAnMQisHJoRQDEIrBxaJChAi2zn+6kxH0AkKH6MuSscQLpJDAIrpyBA1zTvOEXHHUC+wRcmU0UcQEmdgCbChhJAQj7o2ay6FUC+MJkqGHUgQIMvTKYKxhxAcT0K16PwHUAZc9cS8gEWQAkbnl4pKyFANs07TtGRAUBTliGOdfEdQJJc/kP6rRxA/Bhz1xIyGkCbVZ+rrZgXQNNNYhBY+RxApgpGJXUCD0BO0ZFc/sMDQOJYF7fRwBZAfPKwUGua+z8ukKD4MaYWQAskKH6MuRxAJQaBlUNrJkDRkVz+Q9olQEMc6+I22hVA",
          "dtype": "f8"
         }
        }
       ],
       "layout": {
        "scene": {
         "xaxis": {
          "title": {
           "text": "x1"
          }
         },
         "yaxis": {
          "title": {
           "text": "x2"
          }
         },
         "zaxis": {
          "title": {
           "text": "x3"
          }
         }
        },
        "template": {
         "data": {
          "bar": [
           {
            "error_x": {
             "color": "#2a3f5f"
            },
            "error_y": {
             "color": "#2a3f5f"
            },
            "marker": {
             "line": {
              "color": "#E5ECF6",
              "width": 0.5
             },
             "pattern": {
              "fillmode": "overlay",
              "size": 10,
              "solidity": 0.2
             }
            },
            "type": "bar"
           }
          ],
          "barpolar": [
           {
            "marker": {
             "line": {
              "color": "#E5ECF6",
              "width": 0.5
             },
             "pattern": {
              "fillmode": "overlay",
              "size": 10,
              "solidity": 0.2
             }
            },
            "type": "barpolar"
           }
          ],
          "carpet": [
           {
            "aaxis": {
             "endlinecolor": "#2a3f5f",
             "gridcolor": "white",
             "linecolor": "white",
             "minorgridcolor": "white",
             "startlinecolor": "#2a3f5f"
            },
            "baxis": {
             "endlinecolor": "#2a3f5f",
             "gridcolor": "white",
             "linecolor": "white",
             "minorgridcolor": "white",
             "startlinecolor": "#2a3f5f"
            },
            "type": "carpet"
           }
          ],
          "choropleth": [
           {
            "colorbar": {
             "outlinewidth": 0,
             "ticks": ""
            },
            "type": "choropleth"
           }
          ],
          "contour": [
           {
            "colorbar": {
             "outlinewidth": 0,
             "ticks": ""
            },
            "colorscale": [
             [
              0,
              "#0d0887"
             ],
             [
              0.1111111111111111,
              "#46039f"
             ],
             [
              0.2222222222222222,
              "#7201a8"
             ],
             [
              0.3333333333333333,
              "#9c179e"
             ],
             [
              0.4444444444444444,
              "#bd3786"
             ],
             [
              0.5555555555555556,
              "#d8576b"
             ],
             [
              0.6666666666666666,
              "#ed7953"
             ],
             [
              0.7777777777777778,
              "#fb9f3a"
             ],
             [
              0.8888888888888888,
              "#fdca26"
             ],
             [
              1,
              "#f0f921"
             ]
            ],
            "type": "contour"
           }
          ],
          "contourcarpet": [
           {
            "colorbar": {
             "outlinewidth": 0,
             "ticks": ""
            },
            "type": "contourcarpet"
           }
          ],
          "heatmap": [
           {
            "colorbar": {
             "outlinewidth": 0,
             "ticks": ""
            },
            "colorscale": [
             [
              0,
              "#0d0887"
             ],
             [
              0.1111111111111111,
              "#46039f"
             ],
             [
              0.2222222222222222,
              "#7201a8"
             ],
             [
              0.3333333333333333,
              "#9c179e"
             ],
             [
              0.4444444444444444,
              "#bd3786"
             ],
             [
              0.5555555555555556,
              "#d8576b"
             ],
             [
              0.6666666666666666,
              "#ed7953"
             ],
             [
              0.7777777777777778,
              "#fb9f3a"
             ],
             [
              0.8888888888888888,
              "#fdca26"
             ],
             [
              1,
              "#f0f921"
             ]
            ],
            "type": "heatmap"
           }
          ],
          "histogram": [
           {
            "marker": {
             "pattern": {
              "fillmode": "overlay",
              "size": 10,
              "solidity": 0.2
             }
            },
            "type": "histogram"
           }
          ],
          "histogram2d": [
           {
            "colorbar": {
             "outlinewidth": 0,
             "ticks": ""
            },
            "colorscale": [
             [
              0,
              "#0d0887"
             ],
             [
              0.1111111111111111,
              "#46039f"
             ],
             [
              0.2222222222222222,
              "#7201a8"
             ],
             [
              0.3333333333333333,
              "#9c179e"
             ],
             [
              0.4444444444444444,
              "#bd3786"
             ],
             [
              0.5555555555555556,
              "#d8576b"
             ],
             [
              0.6666666666666666,
              "#ed7953"
             ],
             [
              0.7777777777777778,
              "#fb9f3a"
             ],
             [
              0.8888888888888888,
              "#fdca26"
             ],
             [
              1,
              "#f0f921"
             ]
            ],
            "type": "histogram2d"
           }
          ],
          "histogram2dcontour": [
           {
            "colorbar": {
             "outlinewidth": 0,
             "ticks": ""
            },
            "colorscale": [
             [
              0,
              "#0d0887"
             ],
             [
              0.1111111111111111,
              "#46039f"
             ],
             [
              0.2222222222222222,
              "#7201a8"
             ],
             [
              0.3333333333333333,
              "#9c179e"
             ],
             [
              0.4444444444444444,
              "#bd3786"
             ],
             [
              0.5555555555555556,
              "#d8576b"
             ],
             [
              0.6666666666666666,
              "#ed7953"
             ],
             [
              0.7777777777777778,
              "#fb9f3a"
             ],
             [
              0.8888888888888888,
              "#fdca26"
             ],
             [
              1,
              "#f0f921"
             ]
            ],
            "type": "histogram2dcontour"
           }
          ],
          "mesh3d": [
           {
            "colorbar": {
             "outlinewidth": 0,
             "ticks": ""
            },
            "type": "mesh3d"
           }
          ],
          "parcoords": [
           {
            "line": {
             "colorbar": {
              "outlinewidth": 0,
              "ticks": ""
             }
            },
            "type": "parcoords"
           }
          ],
          "pie": [
           {
            "automargin": true,
            "type": "pie"
           }
          ],
          "scatter": [
           {
            "fillpattern": {
             "fillmode": "overlay",
             "size": 10,
             "solidity": 0.2
            },
            "type": "scatter"
           }
          ],
          "scatter3d": [
           {
            "line": {
             "colorbar": {
              "outlinewidth": 0,
              "ticks": ""
             }
            },
            "marker": {
             "colorbar": {
              "outlinewidth": 0,
              "ticks": ""
             }
            },
            "type": "scatter3d"
           }
          ],
          "scattercarpet": [
           {
            "marker": {
             "colorbar": {
              "outlinewidth": 0,
              "ticks": ""
             }
            },
            "type": "scattercarpet"
           }
          ],
          "scattergeo": [
           {
            "marker": {
             "colorbar": {
              "outlinewidth": 0,
              "ticks": ""
             }
            },
            "type": "scattergeo"
           }
          ],
          "scattergl": [
           {
            "marker": {
             "colorbar": {
              "outlinewidth": 0,
              "ticks": ""
             }
            },
            "type": "scattergl"
           }
          ],
          "scattermap": [
           {
            "marker": {
             "colorbar": {
              "outlinewidth": 0,
              "ticks": ""
             }
            },
            "type": "scattermap"
           }
          ],
          "scattermapbox": [
           {
            "marker": {
             "colorbar": {
              "outlinewidth": 0,
              "ticks": ""
             }
            },
            "type": "scattermapbox"
           }
          ],
          "scatterpolar": [
           {
            "marker": {
             "colorbar": {
              "outlinewidth": 0,
              "ticks": ""
             }
            },
            "type": "scatterpolar"
           }
          ],
          "scatterpolargl": [
           {
            "marker": {
             "colorbar": {
              "outlinewidth": 0,
              "ticks": ""
             }
            },
            "type": "scatterpolargl"
           }
          ],
          "scatterternary": [
           {
            "marker": {
             "colorbar": {
              "outlinewidth": 0,
              "ticks": ""
             }
            },
            "type": "scatterternary"
           }
          ],
          "surface": [
           {
            "colorbar": {
             "outlinewidth": 0,
             "ticks": ""
            },
            "colorscale": [
             [
              0,
              "#0d0887"
             ],
             [
              0.1111111111111111,
              "#46039f"
             ],
             [
              0.2222222222222222,
              "#7201a8"
             ],
             [
              0.3333333333333333,
              "#9c179e"
             ],
             [
              0.4444444444444444,
              "#bd3786"
             ],
             [
              0.5555555555555556,
              "#d8576b"
             ],
             [
              0.6666666666666666,
              "#ed7953"
             ],
             [
              0.7777777777777778,
              "#fb9f3a"
             ],
             [
              0.8888888888888888,
              "#fdca26"
             ],
             [
              1,
              "#f0f921"
             ]
            ],
            "type": "surface"
           }
          ],
          "table": [
           {
            "cells": {
             "fill": {
              "color": "#EBF0F8"
             },
             "line": {
              "color": "white"
             }
            },
            "header": {
             "fill": {
              "color": "#C8D4E3"
             },
             "line": {
              "color": "white"
             }
            },
            "type": "table"
           }
          ]
         },
         "layout": {
          "annotationdefaults": {
           "arrowcolor": "#2a3f5f",
           "arrowhead": 0,
           "arrowwidth": 1
          },
          "autotypenumbers": "strict",
          "coloraxis": {
           "colorbar": {
            "outlinewidth": 0,
            "ticks": ""
           }
          },
          "colorscale": {
           "diverging": [
            [
             0,
             "#8e0152"
            ],
            [
             0.1,
             "#c51b7d"
            ],
            [
             0.2,
             "#de77ae"
            ],
            [
             0.3,
             "#f1b6da"
            ],
            [
             0.4,
             "#fde0ef"
            ],
            [
             0.5,
             "#f7f7f7"
            ],
            [
             0.6,
             "#e6f5d0"
            ],
            [
             0.7,
             "#b8e186"
            ],
            [
             0.8,
             "#7fbc41"
            ],
            [
             0.9,
             "#4d9221"
            ],
            [
             1,
             "#276419"
            ]
           ],
           "sequential": [
            [
             0,
             "#0d0887"
            ],
            [
             0.1111111111111111,
             "#46039f"
            ],
            [
             0.2222222222222222,
             "#7201a8"
            ],
            [
             0.3333333333333333,
             "#9c179e"
            ],
            [
             0.4444444444444444,
             "#bd3786"
            ],
            [
             0.5555555555555556,
             "#d8576b"
            ],
            [
             0.6666666666666666,
             "#ed7953"
            ],
            [
             0.7777777777777778,
             "#fb9f3a"
            ],
            [
             0.8888888888888888,
             "#fdca26"
            ],
            [
             1,
             "#f0f921"
            ]
           ],
           "sequentialminus": [
            [
             0,
             "#0d0887"
            ],
            [
             0.1111111111111111,
             "#46039f"
            ],
            [
             0.2222222222222222,
             "#7201a8"
            ],
            [
             0.3333333333333333,
             "#9c179e"
            ],
            [
             0.4444444444444444,
             "#bd3786"
            ],
            [
             0.5555555555555556,
             "#d8576b"
            ],
            [
             0.6666666666666666,
             "#ed7953"
            ],
            [
             0.7777777777777778,
             "#fb9f3a"
            ],
            [
             0.8888888888888888,
             "#fdca26"
            ],
            [
             1,
             "#f0f921"
            ]
           ]
          },
          "colorway": [
           "#636efa",
           "#EF553B",
           "#00cc96",
           "#ab63fa",
           "#FFA15A",
           "#19d3f3",
           "#FF6692",
           "#B6E880",
           "#FF97FF",
           "#FECB52"
          ],
          "font": {
           "color": "#2a3f5f"
          },
          "geo": {
           "bgcolor": "white",
           "lakecolor": "white",
           "landcolor": "#E5ECF6",
           "showlakes": true,
           "showland": true,
           "subunitcolor": "white"
          },
          "hoverlabel": {
           "align": "left"
          },
          "hovermode": "closest",
          "mapbox": {
           "style": "light"
          },
          "paper_bgcolor": "white",
          "plot_bgcolor": "#E5ECF6",
          "polar": {
           "angularaxis": {
            "gridcolor": "white",
            "linecolor": "white",
            "ticks": ""
           },
           "bgcolor": "#E5ECF6",
           "radialaxis": {
            "gridcolor": "white",
            "linecolor": "white",
            "ticks": ""
           }
          },
          "scene": {
           "xaxis": {
            "backgroundcolor": "#E5ECF6",
            "gridcolor": "white",
            "gridwidth": 2,
            "linecolor": "white",
            "showbackground": true,
            "ticks": "",
            "zerolinecolor": "white"
           },
           "yaxis": {
            "backgroundcolor": "#E5ECF6",
            "gridcolor": "white",
            "gridwidth": 2,
            "linecolor": "white",
            "showbackground": true,
            "ticks": "",
            "zerolinecolor": "white"
           },
           "zaxis": {
            "backgroundcolor": "#E5ECF6",
            "gridcolor": "white",
            "gridwidth": 2,
            "linecolor": "white",
            "showbackground": true,
            "ticks": "",
            "zerolinecolor": "white"
           }
          },
          "shapedefaults": {
           "line": {
            "color": "#2a3f5f"
           }
          },
          "ternary": {
           "aaxis": {
            "gridcolor": "white",
            "linecolor": "white",
            "ticks": ""
           },
           "baxis": {
            "gridcolor": "white",
            "linecolor": "white",
            "ticks": ""
           },
           "bgcolor": "#E5ECF6",
           "caxis": {
            "gridcolor": "white",
            "linecolor": "white",
            "ticks": ""
           }
          },
          "title": {
           "x": 0.05
          },
          "xaxis": {
           "automargin": true,
           "gridcolor": "white",
           "linecolor": "white",
           "ticks": "",
           "title": {
            "standoff": 15
           },
           "zerolinecolor": "white",
           "zerolinewidth": 2
          },
          "yaxis": {
           "automargin": true,
           "gridcolor": "white",
           "linecolor": "white",
           "ticks": "",
           "title": {
            "standoff": 15
           },
           "zerolinecolor": "white",
           "zerolinewidth": 2
          }
         }
        },
        "title": {
         "text": "Gráfico 3D - Plotly"
        }
       }
      }
     },
     "metadata": {},
     "output_type": "display_data"
    }
   ],
   "source": [
    "# -------------------------------\n",
    "# 3. Plotly (interativo)\n",
    "# -------------------------------\n",
    "fig = go.Figure(data=[go.Scatter3d(\n",
    "    x=dados['x1'], y=dados['x2'], z=dados['x3'],\n",
    "    mode='markers',\n",
    "    marker=dict(\n",
    "        size=6,\n",
    "        color=dados['y'],      # cor baseada em y\n",
    "        colorscale='Viridis',\n",
    "        opacity=0.8\n",
    "    )\n",
    ")])\n",
    "fig.update_layout(scene=dict(\n",
    "    xaxis_title='x1',\n",
    "    yaxis_title='x2',\n",
    "    zaxis_title='x3'),\n",
    "    title=\"Gráfico 3D - Plotly\"\n",
    ")\n",
    "fig.show()"
   ]
  },
  {
   "cell_type": "code",
   "execution_count": 522,
   "id": "741ded92",
   "metadata": {},
   "outputs": [
    {
     "name": "stdout",
     "output_type": "stream",
     "text": [
      "[[-0.6508  0.1097  4.0009 -1.    ]\n",
      " [-1.4492  0.8896  4.4005 -1.    ]\n",
      " [ 2.085   0.6876 12.071  -1.    ]\n",
      " [ 0.2626  1.1476  7.7985 -1.    ]\n",
      " [ 0.6418  1.0234  7.0427 -1.    ]\n",
      " [ 0.2569  0.673   8.3265 -1.    ]\n",
      " [ 1.1155  0.6043  7.4446 -1.    ]\n",
      " [ 0.0914  0.3399  7.0677 -1.    ]\n",
      " [ 0.0121  0.5256  4.6316 -1.    ]\n",
      " [-0.0429  0.466   5.4323 -1.    ]\n",
      " [ 0.434   0.687   8.2287 -1.    ]\n",
      " [ 0.2735  1.0287  7.1934 -1.    ]\n",
      " [ 0.4839  0.4851  7.485  -1.    ]\n",
      " [ 0.4089 -0.1267  5.5019 -1.    ]\n",
      " [ 1.4391  0.1614  8.5843 -1.    ]\n",
      " [-0.9115 -0.1973  2.1962 -1.    ]\n",
      " [ 0.3654  1.0475  7.4858 -1.    ]\n",
      " [ 0.2144  0.7515  7.1699 -1.    ]\n",
      " [ 0.2013  1.0014  6.5489 -1.    ]\n",
      " [ 0.6483  0.2183  5.8991 -1.    ]\n",
      " [-0.1147  0.2242  7.2435 -1.    ]\n",
      " [-0.797   0.8795  3.8762 -1.    ]\n",
      " [-1.0625  0.6366  2.4707 -1.    ]\n",
      " [ 0.5307  0.1285  5.6883 -1.    ]\n",
      " [-1.22    0.7777  1.7252 -1.    ]\n",
      " [ 0.3957  0.1076  5.6623 -1.    ]\n",
      " [-0.1013  0.5989  7.1812 -1.    ]\n",
      " [ 2.4482  0.9455 11.2095 -1.    ]\n",
      " [ 2.0149  0.6192 10.9263 -1.    ]\n",
      " [ 0.2012  0.2611  5.4631 -1.    ]]\n"
     ]
    }
   ],
   "source": [
    "bias = np.ones((n_amostras,1)) * -1\n",
    "x = np.hstack((x,bias))\n",
    "print(x)"
   ]
  },
  {
   "cell_type": "code",
   "execution_count": 523,
   "id": "b646824c",
   "metadata": {},
   "outputs": [
    {
     "name": "stdout",
     "output_type": "stream",
     "text": [
      "[-1. -1. -1.  1.  1. -1.  1. -1.  1.  1. -1.  1. -1. -1. -1. -1.  1.  1.\n",
      "  1.  1. -1.  1.  1.  1.  1. -1. -1.  1. -1.  1.]\n",
      "-1: 14\n",
      "-1: 16\n"
     ]
    }
   ],
   "source": [
    "#Passo 2\n",
    "y = dados.iloc[:, n_variaveis].values\n",
    "print(y)\n",
    "\n",
    "print(f\"-1: {(y == -1).sum()}\")\n",
    "print(f\"-1: {(y == 1).sum()}\")"
   ]
  },
  {
   "cell_type": "code",
   "execution_count": 524,
   "id": "183ae240",
   "metadata": {},
   "outputs": [],
   "source": [
    "#Passo 3\n",
    "w = np.random.uniform(-1, 1, n_variaveis+1)\n",
    "\n",
    "#Passo 4\n",
    "#taxa de aprendizagem eta\n",
    "eta = 0.10\n",
    "\n",
    "#Passo 5\n",
    "#n_amostras\n",
    "\n",
    "#Passo 6\n",
    "tolerancia = 0.01\n",
    "\n",
    "#Passo 7\n",
    "erro_medio = tolerancia + 1\n",
    "\n",
    "#Passo 8\n",
    "erro_epocas = []\n",
    "\n",
    "#Passo 9\n",
    "epoca = 0\n",
    "\n",
    "#Passo 10\n",
    "max_epocas = 200\n",
    "\n",
    "#Passo 11\n",
    "criterio_erro = True\n",
    "criterio_epoca = True\n",
    "\n",
    "#Passo 12 13 14 15 16 17 18 19 20 21 22 23 24\n",
    "while(criterio_epoca and criterio_erro):\n",
    "   erro_atual = 0\n",
    "   epoca = epoca + 1\n",
    "   \n",
    "   indices_embaralhados = np.random.permutation(n_amostras)\n",
    "   for i in range(n_amostras):\n",
    "      indice_amostra = indices_embaralhados[i]\n",
    "      xi_amostra = x[indice_amostra, :]\n",
    "      u = np.dot(w.T, xi_amostra)\n",
    "      yhat = degrau_bipolar(u)\n",
    "      e = y[indice_amostra] - yhat\n",
    "      w = w + ((eta * e) * xi_amostra)\n",
    "      erro_atual = erro_atual + np.abs(e)\n",
    "      \n",
    "   erro_medio = erro_atual/n_amostras\n",
    "   erro_epocas.append(erro_medio)\n",
    "   \n",
    "   if erro_medio <= tolerancia:\n",
    "      criterio_erro = False\n",
    "   if epoca >= max_epocas:\n",
    "      criterio_epoca = False"
   ]
  },
  {
   "cell_type": "code",
   "execution_count": 525,
   "id": "bacbaebe",
   "metadata": {},
   "outputs": [
    {
     "data": {
      "image/png": "[encoded data removed]",
      "text/plain": [
       "<Figure size 800x600 with 1 Axes>"
      ]
     },
     "metadata": {},
     "output_type": "display_data"
    }
   ],
   "source": [
    "# -------------------------------\n",
    "# CONVERGENCIA DE ERROS\n",
    "# -------------------------------\n",
    "\n",
    "plt.figure(figsize=(8,6))\n",
    "plt.plot(erro_epocas[:max_epocas])\n",
    "plt.title(\"Convergencia do erro\")\n",
    "plt.xlabel(\"Quant epocas\")\n",
    "plt.ylabel(\"Erro\")\n",
    "plt.grid\n",
    "plt.show()\n"
   ]
  },
  {
   "cell_type": "code",
   "execution_count": 526,
   "id": "fd36d8a4",
   "metadata": {},
   "outputs": [
    {
     "name": "stdout",
     "output_type": "stream",
     "text": [
      "Conjunto de pesos ideal (w*):\n",
      "[ 11.27484929  18.66739713  -5.10445434 -20.8795252 ]\n",
      "--------------------------------|/|--------------------------------\n",
      "Epocas necessárias para convergir:\n",
      "149\n"
     ]
    }
   ],
   "source": [
    "print(\"Conjunto de pesos ideal (w*):\")\n",
    "print(w)\n",
    "print(\"--------------------------------|/|--------------------------------\")\n",
    "print(\"Epocas necessárias para convergir:\")\n",
    "print(epoca)"
   ]
  },
  {
   "cell_type": "markdown",
   "id": "03d75c66",
   "metadata": {},
   "source": [
    "<h1>Previsão</h1>"
   ]
  },
  {
   "cell_type": "code",
   "execution_count": 527,
   "id": "69d1a2e7",
   "metadata": {},
   "outputs": [],
   "source": [
    "def previsao(w, x):\n",
    "   u = np.dot(w.T, x)\n",
    "   yhat = degrau_bipolar(u)\n",
    "   return yhat"
   ]
  },
  {
   "cell_type": "code",
   "execution_count": 528,
   "id": "0eb54889",
   "metadata": {},
   "outputs": [
    {
     "name": "stdout",
     "output_type": "stream",
     "text": [
      "[-1. -1. -1.  1.  1. -1.  1. -1.  1.  1. -1.  1. -1. -1. -1. -1.  1.  1.\n",
      "  1.  1. -1.  1.  1.  1.  1. -1. -1.  1. -1.  1.]\n"
     ]
    }
   ],
   "source": [
    "# Cria um vetor para receber todas as previsoes realizadas pela RNA\n",
    "\n",
    "yhat = np.zeros(n_amostras)\n",
    "\n",
    "#Armazenar todas as previsoes uma para cada amostra\n",
    "for i in range(n_amostras):\n",
    "   yhat[i] = previsao(w, x[i,:])\n",
    "\n",
    "print(yhat)"
   ]
  },
  {
   "cell_type": "markdown",
   "id": "7573f83d",
   "metadata": {},
   "source": [
    "<h4>ANÁLISE DA QUALIDADE DE CLASSIFICAÇÃO</h4>"
   ]
  },
  {
   "cell_type": "code",
   "execution_count": 529,
   "id": "2ac50e63",
   "metadata": {},
   "outputs": [
    {
     "name": "stdout",
     "output_type": "stream",
     "text": [
      "MATRIZ DE CONFUSÂO\n",
      "[[14  0]\n",
      " [ 0 16]]\n"
     ]
    },
    {
     "data": {
      "image/png": "[encoded data removed]",
      "text/plain": [
       "<Figure size 400x300 with 2 Axes>"
      ]
     },
     "metadata": {},
     "output_type": "display_data"
    }
   ],
   "source": [
    "#converter -1 em 0\n",
    "yhat_display = np.where(yhat == -1,0,yhat)\n",
    "y_display = np.where(y== -1,0,y)\n",
    "\n",
    "#gera a matriz de confusao\n",
    "cm = confusion_matrix(y_display, yhat_display)\n",
    "print('MATRIZ DE CONFUSÂO')\n",
    "print(cm)\n",
    "\n",
    "#plotar matriz de confusão crocante\n",
    "plt.figure(figsize=(4,3))\n",
    "sns.heatmap(cm, annot=True, fmt='d', cmap='Blues',\n",
    "            xticklabels=['Mimosa', 'Cheirosa'], yticklabels=['Mimosa', 'Cheirosa'])\n",
    "\n",
    "plt.title('Matriz de confusão')\n",
    "plt.xlabel('Valor real')\n",
    "plt.ylabel('Valor predito')\n",
    "plt.show()"
   ]
  },
  {
   "cell_type": "code",
   "execution_count": 530,
   "id": "7c8fecf1",
   "metadata": {},
   "outputs": [
    {
     "name": "stdout",
     "output_type": "stream",
     "text": [
      "ACURACIA =  100.0 %\n"
     ]
    }
   ],
   "source": [
    "#calculo da acuracia\n",
    "acuracia = np.sum(yhat == y)/n_amostras\n",
    "print(\"ACURACIA = \", acuracia*100, \"%\")"
   ]
  },
  {
   "cell_type": "code",
   "execution_count": 531,
   "id": "c1b0eae0",
   "metadata": {},
   "outputs": [
    {
     "data": {
      "image/png": "[encoded data removed]",
      "text/plain": [
       "<Figure size 400x400 with 1 Axes>"
      ]
     },
     "metadata": {},
     "output_type": "display_data"
    }
   ],
   "source": [
    "if cm.shape == (2, 2):\n",
    "   resultado = [cm[0, 0], cm[0, 1], cm[1, 1], cm[1, 0]]\n",
    "   labels = ['VV', 'VS', 'SS', 'SV']\n",
    "   colors = ['green', 'red', 'green', 'red']\n",
    "   \n",
    "   plt.figure(figsize=(4, 4))\n",
    "   plt.bar(labels, resultado, color=colors)\n",
    "   plt.xlabel('Previsões')\n",
    "   plt.ylabel('Quantidade')\n",
    "   plt.title('Resultado das Classificações')\n",
    "   plt.ylim(0, 20)\n",
    "   for i, v in enumerate(resultado):\n",
    "      plt.text(i, v + 0.2, str(v), ha='center')\n",
    "   plt.show()"
   ]
  },
  {
   "cell_type": "code",
   "execution_count": 532,
   "id": "38a26211",
   "metadata": {},
   "outputs": [
    {
     "data": {
      "application/vnd.plotly.v1+json": {
       "config": {
        "plotlyServerURL": "https://plot.ly"
       },
       "data": [
        {
         "colorscale": [
          [
           0,
           "rgb(0, 0, 0)"
          ],
          [
           0.09090909090909091,
           "rgb(16, 16, 16)"
          ],
          [
           0.18181818181818182,
           "rgb(38, 38, 38)"
          ],
          [
           0.2727272727272727,
           "rgb(59, 59, 59)"
          ],
          [
           0.36363636363636365,
           "rgb(81, 80, 80)"
          ],
          [
           0.45454545454545453,
           "rgb(102, 101, 101)"
          ],
          [
           0.5454545454545454,
           "rgb(124, 123, 122)"
          ],
          [
           0.6363636363636364,
           "rgb(146, 146, 145)"
          ],
          [
           0.7272727272727273,
           "rgb(171, 171, 170)"
          ],
          [
           0.8181818181818182,
           "rgb(197, 197, 195)"
          ],
          [
           0.9090909090909091,
           "rgb(224, 224, 223)"
          ],
          [
           1,
           "rgb(254, 254, 253)"
          ]
         ],
         "name": "Hiperplano",
         "opacity": 0.3,
         "showscale": false,
         "type": "surface",
         "x": {
          "bdata": "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",
          "dtype": "f8",
          "shape": "20, 20"
         },
         "y": {
          "bdata": "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",
          "dtype": "f8",
          "shape": "20, 20"
         },
         "z": {
          "bdata": "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",
          "dtype": "f8",
          "shape": "20, 20"
         }
        },
        {
         "marker": {
          "color": [
           "red",
           "red",
           "red",
           "blue",
           "blue",
           "red",
           "blue",
           "red",
           "blue",
           "blue",
           "red",
           "blue",
           "red",
           "red",
           "red",
           "red",
           "blue",
           "blue",
           "blue",
           "blue",
           "red",
           "blue",
           "blue",
           "blue",
           "blue",
           "red",
           "red",
           "blue",
           "red",
           "blue"
          ],
          "line": {
           "color": "white",
           "width": 1
          },
          "opacity": 0.8,
          "size": 8
         },
         "mode": "markers",
         "name": "Amostras",
         "type": "scatter3d",
         "x": {
          "bdata": "3pOHhVrT5L+rz9VW7C/3v65H4XoUrgBAkX77OnDO0D9hVFInoInkP+LplbIMcdA/DAIrhxbZ8T/1udqK/WW3P4C3QILix4g/SS7/If32pb8tsp3vp8bbPxsv3SQGgdE/nDOitDf43j/PZtXnaivaPxHHuriNBvc/XrpJDAIr7b9tVn2utmLXP1OWIY51ccs/h6dXyjLEyT/J5T+k377kPz7o2az6XL2/Gy/dJAaB6b8AAAAAAADxvySX/5B+++A/hetRuB6F87+lvcEXJlPZP3S1FfvL7rm/oImw4emVA0DmriXkgx4AQP5D+u3rwMk/",
          "dtype": "f8"
         },
         "y": {
          "bdata": "9wZfmEwVvD/ysFBrmnfsP+JYF7fRAOY/zTtO0ZFc8j9Wn6ut2F/wP/Cnxks3ieU/LSEf9GxW4z/+Q/rt68DVPxniWBe30eA/bef7qfHS3T+WQ4ts5/vlP71SliGOdfA/zojS3uAL3z8PnDOitDfAv/CFyVTBqMQ/NxrAWyBByb/D9Shcj8LwPz81XrpJDOg/L26jAbwF8D8awFsgQfHLP4qw4emVssw/vp8aL90k7D90RpT2Bl/kP6abxCCwcsA/pSxDHOvi6D+WsgxxrIu7P3xhMlUwKuM/qMZLN4lB7j/G3LWEfNDjPxIUP8bctdA/",
          "dtype": "f8"
         },
         "z": {
          "bdata": "/kP67esAEEAnMQisHJoRQDEIrBxaJChAi2zn+6kxH0AkKH6MuSscQLpJDAIrpyBA1zTvOEXHHUC+wRcmU0UcQEmdgCbChhJAQj7o2ay6FUC+MJkqGHUgQIMvTKYKxhxAcT0K16PwHUAZc9cS8gEWQAkbnl4pKyFANs07TtGRAUBTliGOdfEdQJJc/kP6rRxA/Bhz1xIyGkCbVZ+rrZgXQNNNYhBY+RxApgpGJXUCD0BO0ZFc/sMDQOJYF7fRwBZAfPKwUGua+z8ukKD4MaYWQAskKH6MuRxAJQaBlUNrJkDRkVz+Q9olQEMc6+I22hVA",
          "dtype": "f8"
         }
        }
       ],
       "layout": {
        "height": 600,
        "scene": {
         "xaxis": {
          "title": {
           "text": "x1"
          }
         },
         "yaxis": {
          "title": {
           "text": "x2"
          }
         },
         "zaxis": {
          "title": {
           "text": "x3"
          }
         }
        },
        "template": {
         "data": {
          "bar": [
           {
            "error_x": {
             "color": "#2a3f5f"
            },
            "error_y": {
             "color": "#2a3f5f"
            },
            "marker": {
             "line": {
              "color": "#E5ECF6",
              "width": 0.5
             },
             "pattern": {
              "fillmode": "overlay",
              "size": 10,
              "solidity": 0.2
             }
            },
            "type": "bar"
           }
          ],
          "barpolar": [
           {
            "marker": {
             "line": {
              "color": "#E5ECF6",
              "width": 0.5
             },
             "pattern": {
              "fillmode": "overlay",
              "size": 10,
              "solidity": 0.2
             }
            },
            "type": "barpolar"
           }
          ],
          "carpet": [
           {
            "aaxis": {
             "endlinecolor": "#2a3f5f",
             "gridcolor": "white",
             "linecolor": "white",
             "minorgridcolor": "white",
             "startlinecolor": "#2a3f5f"
            },
            "baxis": {
             "endlinecolor": "#2a3f5f",
             "gridcolor": "white",
             "linecolor": "white",
             "minorgridcolor": "white",
             "startlinecolor": "#2a3f5f"
            },
            "type": "carpet"
           }
          ],
          "choropleth": [
           {
            "colorbar": {
             "outlinewidth": 0,
             "ticks": ""
            },
            "type": "choropleth"
           }
          ],
          "contour": [
           {
            "colorbar": {
             "outlinewidth": 0,
             "ticks": ""
            },
            "colorscale": [
             [
              0,
              "#0d0887"
             ],
             [
              0.1111111111111111,
              "#46039f"
             ],
             [
              0.2222222222222222,
              "#7201a8"
             ],
             [
              0.3333333333333333,
              "#9c179e"
             ],
             [
              0.4444444444444444,
              "#bd3786"
             ],
             [
              0.5555555555555556,
              "#d8576b"
             ],
             [
              0.6666666666666666,
              "#ed7953"
             ],
             [
              0.7777777777777778,
              "#fb9f3a"
             ],
             [
              0.8888888888888888,
              "#fdca26"
             ],
             [
              1,
              "#f0f921"
             ]
            ],
            "type": "contour"
           }
          ],
          "contourcarpet": [
           {
            "colorbar": {
             "outlinewidth": 0,
             "ticks": ""
            },
            "type": "contourcarpet"
           }
          ],
          "heatmap": [
           {
            "colorbar": {
             "outlinewidth": 0,
             "ticks": ""
            },
            "colorscale": [
             [
              0,
              "#0d0887"
             ],
             [
              0.1111111111111111,
              "#46039f"
             ],
             [
              0.2222222222222222,
              "#7201a8"
             ],
             [
              0.3333333333333333,
              "#9c179e"
             ],
             [
              0.4444444444444444,
              "#bd3786"
             ],
             [
              0.5555555555555556,
              "#d8576b"
             ],
             [
              0.6666666666666666,
              "#ed7953"
             ],
             [
              0.7777777777777778,
              "#fb9f3a"
             ],
             [
              0.8888888888888888,
              "#fdca26"
             ],
             [
              1,
              "#f0f921"
             ]
            ],
            "type": "heatmap"
           }
          ],
          "histogram": [
           {
            "marker": {
             "pattern": {
              "fillmode": "overlay",
              "size": 10,
              "solidity": 0.2
             }
            },
            "type": "histogram"
           }
          ],
          "histogram2d": [
           {
            "colorbar": {
             "outlinewidth": 0,
             "ticks": ""
            },
            "colorscale": [
             [
              0,
              "#0d0887"
             ],
             [
              0.1111111111111111,
              "#46039f"
             ],
             [
              0.2222222222222222,
              "#7201a8"
             ],
             [
              0.3333333333333333,
              "#9c179e"
             ],
             [
              0.4444444444444444,
              "#bd3786"
             ],
             [
              0.5555555555555556,
              "#d8576b"
             ],
             [
              0.6666666666666666,
              "#ed7953"
             ],
             [
              0.7777777777777778,
              "#fb9f3a"
             ],
             [
              0.8888888888888888,
              "#fdca26"
             ],
             [
              1,
              "#f0f921"
             ]
            ],
            "type": "histogram2d"
           }
          ],
          "histogram2dcontour": [
           {
            "colorbar": {
             "outlinewidth": 0,
             "ticks": ""
            },
            "colorscale": [
             [
              0,
              "#0d0887"
             ],
             [
              0.1111111111111111,
              "#46039f"
             ],
             [
              0.2222222222222222,
              "#7201a8"
             ],
             [
              0.3333333333333333,
              "#9c179e"
             ],
             [
              0.4444444444444444,
              "#bd3786"
             ],
             [
              0.5555555555555556,
              "#d8576b"
             ],
             [
              0.6666666666666666,
              "#ed7953"
             ],
             [
              0.7777777777777778,
              "#fb9f3a"
             ],
             [
              0.8888888888888888,
              "#fdca26"
             ],
             [
              1,
              "#f0f921"
             ]
            ],
            "type": "histogram2dcontour"
           }
          ],
          "mesh3d": [
           {
            "colorbar": {
             "outlinewidth": 0,
             "ticks": ""
            },
            "type": "mesh3d"
           }
          ],
          "parcoords": [
           {
            "line": {
             "colorbar": {
              "outlinewidth": 0,
              "ticks": ""
             }
            },
            "type": "parcoords"
           }
          ],
          "pie": [
           {
            "automargin": true,
            "type": "pie"
           }
          ],
          "scatter": [
           {
            "fillpattern": {
             "fillmode": "overlay",
             "size": 10,
             "solidity": 0.2
            },
            "type": "scatter"
           }
          ],
          "scatter3d": [
           {
            "line": {
             "colorbar": {
              "outlinewidth": 0,
              "ticks": ""
             }
            },
            "marker": {
             "colorbar": {
              "outlinewidth": 0,
              "ticks": ""
             }
            },
            "type": "scatter3d"
           }
          ],
          "scattercarpet": [
           {
            "marker": {
             "colorbar": {
              "outlinewidth": 0,
              "ticks": ""
             }
            },
            "type": "scattercarpet"
           }
          ],
          "scattergeo": [
           {
            "marker": {
             "colorbar": {
              "outlinewidth": 0,
              "ticks": ""
             }
            },
            "type": "scattergeo"
           }
          ],
          "scattergl": [
           {
            "marker": {
             "colorbar": {
              "outlinewidth": 0,
              "ticks": ""
             }
            },
            "type": "scattergl"
           }
          ],
          "scattermap": [
           {
            "marker": {
             "colorbar": {
              "outlinewidth": 0,
              "ticks": ""
             }
            },
            "type": "scattermap"
           }
          ],
          "scattermapbox": [
           {
            "marker": {
             "colorbar": {
              "outlinewidth": 0,
              "ticks": ""
             }
            },
            "type": "scattermapbox"
           }
          ],
          "scatterpolar": [
           {
            "marker": {
             "colorbar": {
              "outlinewidth": 0,
              "ticks": ""
             }
            },
            "type": "scatterpolar"
           }
          ],
          "scatterpolargl": [
           {
            "marker": {
             "colorbar": {
              "outlinewidth": 0,
              "ticks": ""
             }
            },
            "type": "scatterpolargl"
           }
          ],
          "scatterternary": [
           {
            "marker": {
             "colorbar": {
              "outlinewidth": 0,
              "ticks": ""
             }
            },
            "type": "scatterternary"
           }
          ],
          "surface": [
           {
            "colorbar": {
             "outlinewidth": 0,
             "ticks": ""
            },
            "colorscale": [
             [
              0,
              "#0d0887"
             ],
             [
              0.1111111111111111,
              "#46039f"
             ],
             [
              0.2222222222222222,
              "#7201a8"
             ],
             [
              0.3333333333333333,
              "#9c179e"
             ],
             [
              0.4444444444444444,
              "#bd3786"
             ],
             [
              0.5555555555555556,
              "#d8576b"
             ],
             [
              0.6666666666666666,
              "#ed7953"
             ],
             [
              0.7777777777777778,
              "#fb9f3a"
             ],
             [
              0.8888888888888888,
              "#fdca26"
             ],
             [
              1,
              "#f0f921"
             ]
            ],
            "type": "surface"
           }
          ],
          "table": [
           {
            "cells": {
             "fill": {
              "color": "#EBF0F8"
             },
             "line": {
              "color": "white"
             }
            },
            "header": {
             "fill": {
              "color": "#C8D4E3"
             },
             "line": {
              "color": "white"
             }
            },
            "type": "table"
           }
          ]
         },
         "layout": {
          "annotationdefaults": {
           "arrowcolor": "#2a3f5f",
           "arrowhead": 0,
           "arrowwidth": 1
          },
          "autotypenumbers": "strict",
          "coloraxis": {
           "colorbar": {
            "outlinewidth": 0,
            "ticks": ""
           }
          },
          "colorscale": {
           "diverging": [
            [
             0,
             "#8e0152"
            ],
            [
             0.1,
             "#c51b7d"
            ],
            [
             0.2,
             "#de77ae"
            ],
            [
             0.3,
             "#f1b6da"
            ],
            [
             0.4,
             "#fde0ef"
            ],
            [
             0.5,
             "#f7f7f7"
            ],
            [
             0.6,
             "#e6f5d0"
            ],
            [
             0.7,
             "#b8e186"
            ],
            [
             0.8,
             "#7fbc41"
            ],
            [
             0.9,
             "#4d9221"
            ],
            [
             1,
             "#276419"
            ]
           ],
           "sequential": [
            [
             0,
             "#0d0887"
            ],
            [
             0.1111111111111111,
             "#46039f"
            ],
            [
             0.2222222222222222,
             "#7201a8"
            ],
            [
             0.3333333333333333,
             "#9c179e"
            ],
            [
             0.4444444444444444,
             "#bd3786"
            ],
            [
             0.5555555555555556,
             "#d8576b"
            ],
            [
             0.6666666666666666,
             "#ed7953"
            ],
            [
             0.7777777777777778,
             "#fb9f3a"
            ],
            [
             0.8888888888888888,
             "#fdca26"
            ],
            [
             1,
             "#f0f921"
            ]
           ],
           "sequentialminus": [
            [
             0,
             "#0d0887"
            ],
            [
             0.1111111111111111,
             "#46039f"
            ],
            [
             0.2222222222222222,
             "#7201a8"
            ],
            [
             0.3333333333333333,
             "#9c179e"
            ],
            [
             0.4444444444444444,
             "#bd3786"
            ],
            [
             0.5555555555555556,
             "#d8576b"
            ],
            [
             0.6666666666666666,
             "#ed7953"
            ],
            [
             0.7777777777777778,
             "#fb9f3a"
            ],
            [
             0.8888888888888888,
             "#fdca26"
            ],
            [
             1,
             "#f0f921"
            ]
           ]
          },
          "colorway": [
           "#636efa",
           "#EF553B",
           "#00cc96",
           "#ab63fa",
           "#FFA15A",
           "#19d3f3",
           "#FF6692",
           "#B6E880",
           "#FF97FF",
           "#FECB52"
          ],
          "font": {
           "color": "#2a3f5f"
          },
          "geo": {
           "bgcolor": "white",
           "lakecolor": "white",
           "landcolor": "#E5ECF6",
           "showlakes": true,
           "showland": true,
           "subunitcolor": "white"
          },
          "hoverlabel": {
           "align": "left"
          },
          "hovermode": "closest",
          "mapbox": {
           "style": "light"
          },
          "paper_bgcolor": "white",
          "plot_bgcolor": "#E5ECF6",
          "polar": {
           "angularaxis": {
            "gridcolor": "white",
            "linecolor": "white",
            "ticks": ""
           },
           "bgcolor": "#E5ECF6",
           "radialaxis": {
            "gridcolor": "white",
            "linecolor": "white",
            "ticks": ""
           }
          },
          "scene": {
           "xaxis": {
            "backgroundcolor": "#E5ECF6",
            "gridcolor": "white",
            "gridwidth": 2,
            "linecolor": "white",
            "showbackground": true,
            "ticks": "",
            "zerolinecolor": "white"
           },
           "yaxis": {
            "backgroundcolor": "#E5ECF6",
            "gridcolor": "white",
            "gridwidth": 2,
            "linecolor": "white",
            "showbackground": true,
            "ticks": "",
            "zerolinecolor": "white"
           },
           "zaxis": {
            "backgroundcolor": "#E5ECF6",
            "gridcolor": "white",
            "gridwidth": 2,
            "linecolor": "white",
            "showbackground": true,
            "ticks": "",
            "zerolinecolor": "white"
           }
          },
          "shapedefaults": {
           "line": {
            "color": "#2a3f5f"
           }
          },
          "ternary": {
           "aaxis": {
            "gridcolor": "white",
            "linecolor": "white",
            "ticks": ""
           },
           "baxis": {
            "gridcolor": "white",
            "linecolor": "white",
            "ticks": ""
           },
           "bgcolor": "#E5ECF6",
           "caxis": {
            "gridcolor": "white",
            "linecolor": "white",
            "ticks": ""
           }
          },
          "title": {
           "x": 0.05
          },
          "xaxis": {
           "automargin": true,
           "gridcolor": "white",
           "linecolor": "white",
           "ticks": "",
           "title": {
            "standoff": 15
           },
           "zerolinecolor": "white",
           "zerolinewidth": 2
          },
          "yaxis": {
           "automargin": true,
           "gridcolor": "white",
           "linecolor": "white",
           "ticks": "",
           "title": {
            "standoff": 15
           },
           "zerolinecolor": "white",
           "zerolinewidth": 2
          }
         }
        },
        "title": {
         "text": "Classificação"
        },
        "width": 800
       }
      }
     },
     "metadata": {},
     "output_type": "display_data"
    }
   ],
   "source": [
    "#criar grafico 3d interativo\n",
    "colors = ['red' if y == -1 else 'blue' for y in yhat]\n",
    "\n",
    "#criar malha para o hiperplano\n",
    "x1_range = np.linspace(x[:, 0].min() - 0.5, x[:, 0].max() + 0.5, 20)\n",
    "x2_range = np.linspace(x[:, 1].min() - 0.5, x[:, 1].max() + 0.5, 20)\n",
    "x1_grid, x2_grid = np.meshgrid(x1_range, x2_range)\n",
    "\n",
    "#calcular x3 para o hiperplano: w0*x1 + w1*x2 + w2*x3 + w3*(-1) = 0\n",
    "#x3 = (w0*x1 + w1*x2 - w3) / (-w2)\n",
    "x3_grid = (w[0] * x1_grid + w[1] * x2_grid - w[3]) / (-w[2])\n",
    "\n",
    "fig = go.Figure()\n",
    "\n",
    "#adicionar o hiperplano\n",
    "fig.add_trace(go.Surface(\n",
    "   x=x1_grid,\n",
    "   y=x2_grid,\n",
    "   z=x3_grid,\n",
    "   colorscale='gray',\n",
    "   opacity=0.3,\n",
    "   showscale=False,\n",
    "   name='Hiperplano'\n",
    "))\n",
    "\n",
    "#adicionar os pontos\n",
    "fig.add_trace(go.Scatter3d(\n",
    "   x=x[:, 0],\n",
    "   y=x[:, 1],\n",
    "   z=x[:, 2],\n",
    "   mode='markers',\n",
    "   marker=dict(\n",
    "      size=8,\n",
    "      color=colors,\n",
    "      opacity=0.8,\n",
    "      line=dict(width=1, color='white')\n",
    "   ),\n",
    "   name='Amostras'\n",
    "))\n",
    "\n",
    "fig.update_layout(\n",
    "   title='Classificação',\n",
    "   scene=dict(\n",
    "      xaxis_title='x1',\n",
    "      yaxis_title='x2',\n",
    "      zaxis_title='x3'\n",
    "   ),\n",
    "   width=800,\n",
    "   height=600\n",
    ")\n"
   ]
  }
 ],
 "metadata": {
  "kernelspec": {
   "display_name": "RNA",
   "language": "python",
   "name": "python3"
  },
  "language_info": {
   "codemirror_mode": {
    "name": "ipython",
    "version": 3
   },
   "file_extension": ".py",
   "mimetype": "text/x-python",
   "name": "python",
   "nbconvert_exporter": "python",
   "pygments_lexer": "ipython3",
   "version": "3.11.13"
  }
 },
 "nbformat": 4,
 "nbformat_minor": 5
}
