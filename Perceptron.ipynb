{
 "cells": [
  {
   "cell_type": "markdown",
   "id": "b8902d50",
   "metadata": {},
   "source": [
    "# Atividade: Petalas\n",
    "\n",
    "**INSTITUTO FEDERAL DE MINAS GERAIS BAMBUI**\n",
    "\n",
    "**Pofessor:** Ciniro Nametala\n",
    "\n",
    "**Aluno:** Ricardo Antonio"
   ]
  },
  {
   "cell_type": "code",
   "execution_count": 91,
   "id": "8086dfea",
   "metadata": {},
   "outputs": [],
   "source": [
    "import numpy as np\n",
    "import pandas as pd\n",
    "import matplotlib.pyplot as plt\n",
    "import pygwalker as pyg\n",
    "from sklearn.metrics import confusion_matrix, classification_report\n",
    "import seaborn as sns\n",
    "import plotly.graph_objects as go"
   ]
  },
  {
   "cell_type": "markdown",
   "id": "fe57ad50",
   "metadata": {},
   "source": [
    "<h2>IMPLEMENTAÇÃO DO PERCEPTRON<h2>"
   ]
  },
  {
   "cell_type": "code",
   "execution_count": 92,
   "id": "6876080b",
   "metadata": {},
   "outputs": [],
   "source": [
    "def degrau_bipolar(u):\n",
    "   if u >= 0:\n",
    "      y=1\n",
    "   else:\n",
    "      y=-1\n",
    "   return y"
   ]
  },
  {
   "cell_type": "code",
   "execution_count": 93,
   "id": "15998381",
   "metadata": {},
   "outputs": [
    {
     "name": "stdout",
     "output_type": "stream",
     "text": [
      "(30, 4)\n",
      "3\n",
      "30\n",
      "[[-0.6508  0.1097  4.0009 -1.    ]\n",
      " [-1.4492  0.8896  4.4005 -1.    ]\n",
      " [ 2.085   0.6876 12.071  -1.    ]\n",
      " [ 0.2626  1.1476  7.7985  1.    ]\n",
      " [ 0.6418  1.0234  7.0427  1.    ]\n",
      " [ 0.2569  0.673   8.3265 -1.    ]\n",
      " [ 1.1155  0.6043  7.4446  1.    ]\n",
      " [ 0.0914  0.3399  7.0677 -1.    ]\n",
      " [ 0.0121  0.5256  4.6316  1.    ]\n",
      " [-0.0429  0.466   5.4323  1.    ]\n",
      " [ 0.434   0.687   8.2287 -1.    ]\n",
      " [ 0.2735  1.0287  7.1934  1.    ]\n",
      " [ 0.4839  0.4851  7.485  -1.    ]\n",
      " [ 0.4089 -0.1267  5.5019 -1.    ]\n",
      " [ 1.4391  0.1614  8.5843 -1.    ]\n",
      " [-0.9115 -0.1973  2.1962 -1.    ]\n",
      " [ 0.3654  1.0475  7.4858  1.    ]\n",
      " [ 0.2144  0.7515  7.1699  1.    ]\n",
      " [ 0.2013  1.0014  6.5489  1.    ]\n",
      " [ 0.6483  0.2183  5.8991  1.    ]\n",
      " [-0.1147  0.2242  7.2435 -1.    ]\n",
      " [-0.797   0.8795  3.8762  1.    ]\n",
      " [-1.0625  0.6366  2.4707  1.    ]\n",
      " [ 0.5307  0.1285  5.6883  1.    ]\n",
      " [-1.22    0.7777  1.7252  1.    ]\n",
      " [ 0.3957  0.1076  5.6623 -1.    ]\n",
      " [-0.1013  0.5989  7.1812 -1.    ]\n",
      " [ 2.4482  0.9455 11.2095  1.    ]\n",
      " [ 2.0149  0.6192 10.9263 -1.    ]\n",
      " [ 0.2012  0.2611  5.4631  1.    ]]\n"
     ]
    }
   ],
   "source": [
    "#Passo 1\n",
    "\n",
    "dados = pd.read_csv('dataset_iris.csv', sep=';')\n",
    "print(dados.shape)\n",
    "n_variaveis = dados.shape[1]-1\n",
    "print(n_variaveis)\n",
    "n_amostras = dados.shape[0]\n",
    "print(n_amostras)\n",
    "x = dados.iloc[:, 0:].values\n",
    "print(x)\n",
    "dados['x1'] = pd.to_numeric(dados['x1'], errors='coerce')\n",
    "dados['x2'] = pd.to_numeric(dados['x2'], errors='coerce')\n",
    "dados['x3'] = pd.to_numeric(dados['x3'], errors='coerce')\n",
    "dados['y'] = pd.to_numeric(dados['y'], errors='coerce')"
   ]
  },
  {
   "cell_type": "code",
   "execution_count": 94,
   "id": "01ff4ed5",
   "metadata": {},
   "outputs": [
    {
     "data": {
      "application/vnd.plotly.v1+json": {
       "config": {
        "plotlyServerURL": "https://plot.ly"
       },
       "data": [
        {
         "marker": {
          "color": {
           "bdata": "AAAAAAAA8L8AAAAAAADwvwAAAAAAAPC/AAAAAAAA8D8AAAAAAADwPwAAAAAAAPC/AAAAAAAA8D8AAAAAAADwvwAAAAAAAPA/AAAAAAAA8D8AAAAAAADwvwAAAAAAAPA/AAAAAAAA8L8AAAAAAADwvwAAAAAAAPC/AAAAAAAA8L8AAAAAAADwPwAAAAAAAPA/AAAAAAAA8D8AAAAAAADwPwAAAAAAAPC/AAAAAAAA8D8AAAAAAADwPwAAAAAAAPA/AAAAAAAA8D8AAAAAAADwvwAAAAAAAPC/AAAAAAAA8D8AAAAAAADwvwAAAAAAAPA/",
           "dtype": "f8"
          },
          "colorscale": [
           [
            0,
            "#440154"
           ],
           [
            0.1111111111111111,
            "#482878"
           ],
           [
            0.2222222222222222,
            "#3e4989"
           ],
           [
            0.3333333333333333,
            "#31688e"
           ],
           [
            0.4444444444444444,
            "#26828e"
           ],
           [
            0.5555555555555556,
            "#1f9e89"
           ],
           [
            0.6666666666666666,
            "#35b779"
           ],
           [
            0.7777777777777778,
            "#6ece58"
           ],
           [
            0.8888888888888888,
            "#b5de2b"
           ],
           [
            1,
            "#fde725"
           ]
          ],
          "opacity": 0.8,
          "size": 6
         },
         "mode": "markers",
         "type": "scatter3d",
         "x": {
          "bdata": "3pOHhVrT5L+rz9VW7C/3v65H4XoUrgBAkX77OnDO0D9hVFInoInkP+LplbIMcdA/DAIrhxbZ8T/1udqK/WW3P4C3QILix4g/SS7/If32pb8tsp3vp8bbPxsv3SQGgdE/nDOitDf43j/PZtXnaivaPxHHuriNBvc/XrpJDAIr7b9tVn2utmLXP1OWIY51ccs/h6dXyjLEyT/J5T+k377kPz7o2az6XL2/Gy/dJAaB6b8AAAAAAADxvySX/5B+++A/hetRuB6F87+lvcEXJlPZP3S1FfvL7rm/oImw4emVA0DmriXkgx4AQP5D+u3rwMk/",
          "dtype": "f8"
         },
         "y": {
          "bdata": "9wZfmEwVvD/ysFBrmnfsP+JYF7fRAOY/zTtO0ZFc8j9Wn6ut2F/wP/Cnxks3ieU/LSEf9GxW4z/+Q/rt68DVPxniWBe30eA/bef7qfHS3T+WQ4ts5/vlP71SliGOdfA/zojS3uAL3z8PnDOitDfAv/CFyVTBqMQ/NxrAWyBByb/D9Shcj8LwPz81XrpJDOg/L26jAbwF8D8awFsgQfHLP4qw4emVssw/vp8aL90k7D90RpT2Bl/kP6abxCCwcsA/pSxDHOvi6D+WsgxxrIu7P3xhMlUwKuM/qMZLN4lB7j/G3LWEfNDjPxIUP8bctdA/",
          "dtype": "f8"
         },
         "z": {
          "bdata": "/kP67esAEEAnMQisHJoRQDEIrBxaJChAi2zn+6kxH0AkKH6MuSscQLpJDAIrpyBA1zTvOEXHHUC+wRcmU0UcQEmdgCbChhJAQj7o2ay6FUC+MJkqGHUgQIMvTKYKxhxAcT0K16PwHUAZc9cS8gEWQAkbnl4pKyFANs07TtGRAUBTliGOdfEdQJJc/kP6rRxA/Bhz1xIyGkCbVZ+rrZgXQNNNYhBY+RxApgpGJXUCD0BO0ZFc/sMDQOJYF7fRwBZAfPKwUGua+z8ukKD4MaYWQAskKH6MuRxAJQaBlUNrJkDRkVz+Q9olQEMc6+I22hVA",
          "dtype": "f8"
         }
        }
       ],
       "layout": {
        "scene": {
         "xaxis": {
          "title": {
           "text": "x1"
          }
         },
         "yaxis": {
          "title": {
           "text": "x2"
          }
         },
         "zaxis": {
          "title": {
           "text": "x3"
          }
         }
        },
        "template": {
         "data": {
          "bar": [
           {
            "error_x": {
             "color": "#2a3f5f"
            },
            "error_y": {
             "color": "#2a3f5f"
            },
            "marker": {
             "line": {
              "color": "#E5ECF6",
              "width": 0.5
             },
             "pattern": {
              "fillmode": "overlay",
              "size": 10,
              "solidity": 0.2
             }
            },
            "type": "bar"
           }
          ],
          "barpolar": [
           {
            "marker": {
             "line": {
              "color": "#E5ECF6",
              "width": 0.5
             },
             "pattern": {
              "fillmode": "overlay",
              "size": 10,
              "solidity": 0.2
             }
            },
            "type": "barpolar"
           }
          ],
          "carpet": [
           {
            "aaxis": {
             "endlinecolor": "#2a3f5f",
             "gridcolor": "white",
             "linecolor": "white",
             "minorgridcolor": "white",
             "startlinecolor": "#2a3f5f"
            },
            "baxis": {
             "endlinecolor": "#2a3f5f",
             "gridcolor": "white",
             "linecolor": "white",
             "minorgridcolor": "white",
             "startlinecolor": "#2a3f5f"
            },
            "type": "carpet"
           }
          ],
          "choropleth": [
           {
            "colorbar": {
             "outlinewidth": 0,
             "ticks": ""
            },
            "type": "choropleth"
           }
          ],
          "contour": [
           {
            "colorbar": {
             "outlinewidth": 0,
             "ticks": ""
            },
            "colorscale": [
             [
              0,
              "#0d0887"
             ],
             [
              0.1111111111111111,
              "#46039f"
             ],
             [
              0.2222222222222222,
              "#7201a8"
             ],
             [
              0.3333333333333333,
              "#9c179e"
             ],
             [
              0.4444444444444444,
              "#bd3786"
             ],
             [
              0.5555555555555556,
              "#d8576b"
             ],
             [
              0.6666666666666666,
              "#ed7953"
             ],
             [
              0.7777777777777778,
              "#fb9f3a"
             ],
             [
              0.8888888888888888,
              "#fdca26"
             ],
             [
              1,
              "#f0f921"
             ]
            ],
            "type": "contour"
           }
          ],
          "contourcarpet": [
           {
            "colorbar": {
             "outlinewidth": 0,
             "ticks": ""
            },
            "type": "contourcarpet"
           }
          ],
          "heatmap": [
           {
            "colorbar": {
             "outlinewidth": 0,
             "ticks": ""
            },
            "colorscale": [
             [
              0,
              "#0d0887"
             ],
             [
              0.1111111111111111,
              "#46039f"
             ],
             [
              0.2222222222222222,
              "#7201a8"
             ],
             [
              0.3333333333333333,
              "#9c179e"
             ],
             [
              0.4444444444444444,
              "#bd3786"
             ],
             [
              0.5555555555555556,
              "#d8576b"
             ],
             [
              0.6666666666666666,
              "#ed7953"
             ],
             [
              0.7777777777777778,
              "#fb9f3a"
             ],
             [
              0.8888888888888888,
              "#fdca26"
             ],
             [
              1,
              "#f0f921"
             ]
            ],
            "type": "heatmap"
           }
          ],
          "histogram": [
           {
            "marker": {
             "pattern": {
              "fillmode": "overlay",
              "size": 10,
              "solidity": 0.2
             }
            },
            "type": "histogram"
           }
          ],
          "histogram2d": [
           {
            "colorbar": {
             "outlinewidth": 0,
             "ticks": ""
            },
            "colorscale": [
             [
              0,
              "#0d0887"
             ],
             [
              0.1111111111111111,
              "#46039f"
             ],
             [
              0.2222222222222222,
              "#7201a8"
             ],
             [
              0.3333333333333333,
              "#9c179e"
             ],
             [
              0.4444444444444444,
              "#bd3786"
             ],
             [
              0.5555555555555556,
              "#d8576b"
             ],
             [
              0.6666666666666666,
              "#ed7953"
             ],
             [
              0.7777777777777778,
              "#fb9f3a"
             ],
             [
              0.8888888888888888,
              "#fdca26"
             ],
             [
              1,
              "#f0f921"
             ]
            ],
            "type": "histogram2d"
           }
          ],
          "histogram2dcontour": [
           {
            "colorbar": {
             "outlinewidth": 0,
             "ticks": ""
            },
            "colorscale": [
             [
              0,
              "#0d0887"
             ],
             [
              0.1111111111111111,
              "#46039f"
             ],
             [
              0.2222222222222222,
              "#7201a8"
             ],
             [
              0.3333333333333333,
              "#9c179e"
             ],
             [
              0.4444444444444444,
              "#bd3786"
             ],
             [
              0.5555555555555556,
              "#d8576b"
             ],
             [
              0.6666666666666666,
              "#ed7953"
             ],
             [
              0.7777777777777778,
              "#fb9f3a"
             ],
             [
              0.8888888888888888,
              "#fdca26"
             ],
             [
              1,
              "#f0f921"
             ]
            ],
            "type": "histogram2dcontour"
           }
          ],
          "mesh3d": [
           {
            "colorbar": {
             "outlinewidth": 0,
             "ticks": ""
            },
            "type": "mesh3d"
           }
          ],
          "parcoords": [
           {
            "line": {
             "colorbar": {
              "outlinewidth": 0,
              "ticks": ""
             }
            },
            "type": "parcoords"
           }
          ],
          "pie": [
           {
            "automargin": true,
            "type": "pie"
           }
          ],
          "scatter": [
           {
            "fillpattern": {
             "fillmode": "overlay",
             "size": 10,
             "solidity": 0.2
            },
            "type": "scatter"
           }
          ],
          "scatter3d": [
           {
            "line": {
             "colorbar": {
              "outlinewidth": 0,
              "ticks": ""
             }
            },
            "marker": {
             "colorbar": {
              "outlinewidth": 0,
              "ticks": ""
             }
            },
            "type": "scatter3d"
           }
          ],
          "scattercarpet": [
           {
            "marker": {
             "colorbar": {
              "outlinewidth": 0,
              "ticks": ""
             }
            },
            "type": "scattercarpet"
           }
          ],
          "scattergeo": [
           {
            "marker": {
             "colorbar": {
              "outlinewidth": 0,
              "ticks": ""
             }
            },
            "type": "scattergeo"
           }
          ],
          "scattergl": [
           {
            "marker": {
             "colorbar": {
              "outlinewidth": 0,
              "ticks": ""
             }
            },
            "type": "scattergl"
           }
          ],
          "scattermap": [
           {
            "marker": {
             "colorbar": {
              "outlinewidth": 0,
              "ticks": ""
             }
            },
            "type": "scattermap"
           }
          ],
          "scattermapbox": [
           {
            "marker": {
             "colorbar": {
              "outlinewidth": 0,
              "ticks": ""
             }
            },
            "type": "scattermapbox"
           }
          ],
          "scatterpolar": [
           {
            "marker": {
             "colorbar": {
              "outlinewidth": 0,
              "ticks": ""
             }
            },
            "type": "scatterpolar"
           }
          ],
          "scatterpolargl": [
           {
            "marker": {
             "colorbar": {
              "outlinewidth": 0,
              "ticks": ""
             }
            },
            "type": "scatterpolargl"
           }
          ],
          "scatterternary": [
           {
            "marker": {
             "colorbar": {
              "outlinewidth": 0,
              "ticks": ""
             }
            },
            "type": "scatterternary"
           }
          ],
          "surface": [
           {
            "colorbar": {
             "outlinewidth": 0,
             "ticks": ""
            },
            "colorscale": [
             [
              0,
              "#0d0887"
             ],
             [
              0.1111111111111111,
              "#46039f"
             ],
             [
              0.2222222222222222,
              "#7201a8"
             ],
             [
              0.3333333333333333,
              "#9c179e"
             ],
             [
              0.4444444444444444,
              "#bd3786"
             ],
             [
              0.5555555555555556,
              "#d8576b"
             ],
             [
              0.6666666666666666,
              "#ed7953"
             ],
             [
              0.7777777777777778,
              "#fb9f3a"
             ],
             [
              0.8888888888888888,
              "#fdca26"
             ],
             [
              1,
              "#f0f921"
             ]
            ],
            "type": "surface"
           }
          ],
          "table": [
           {
            "cells": {
             "fill": {
              "color": "#EBF0F8"
             },
             "line": {
              "color": "white"
             }
            },
            "header": {
             "fill": {
              "color": "#C8D4E3"
             },
             "line": {
              "color": "white"
             }
            },
            "type": "table"
           }
          ]
         },
         "layout": {
          "annotationdefaults": {
           "arrowcolor": "#2a3f5f",
           "arrowhead": 0,
           "arrowwidth": 1
          },
          "autotypenumbers": "strict",
          "coloraxis": {
           "colorbar": {
            "outlinewidth": 0,
            "ticks": ""
           }
          },
          "colorscale": {
           "diverging": [
            [
             0,
             "#8e0152"
            ],
            [
             0.1,
             "#c51b7d"
            ],
            [
             0.2,
             "#de77ae"
            ],
            [
             0.3,
             "#f1b6da"
            ],
            [
             0.4,
             "#fde0ef"
            ],
            [
             0.5,
             "#f7f7f7"
            ],
            [
             0.6,
             "#e6f5d0"
            ],
            [
             0.7,
             "#b8e186"
            ],
            [
             0.8,
             "#7fbc41"
            ],
            [
             0.9,
             "#4d9221"
            ],
            [
             1,
             "#276419"
            ]
           ],
           "sequential": [
            [
             0,
             "#0d0887"
            ],
            [
             0.1111111111111111,
             "#46039f"
            ],
            [
             0.2222222222222222,
             "#7201a8"
            ],
            [
             0.3333333333333333,
             "#9c179e"
            ],
            [
             0.4444444444444444,
             "#bd3786"
            ],
            [
             0.5555555555555556,
             "#d8576b"
            ],
            [
             0.6666666666666666,
             "#ed7953"
            ],
            [
             0.7777777777777778,
             "#fb9f3a"
            ],
            [
             0.8888888888888888,
             "#fdca26"
            ],
            [
             1,
             "#f0f921"
            ]
           ],
           "sequentialminus": [
            [
             0,
             "#0d0887"
            ],
            [
             0.1111111111111111,
             "#46039f"
            ],
            [
             0.2222222222222222,
             "#7201a8"
            ],
            [
             0.3333333333333333,
             "#9c179e"
            ],
            [
             0.4444444444444444,
             "#bd3786"
            ],
            [
             0.5555555555555556,
             "#d8576b"
            ],
            [
             0.6666666666666666,
             "#ed7953"
            ],
            [
             0.7777777777777778,
             "#fb9f3a"
            ],
            [
             0.8888888888888888,
             "#fdca26"
            ],
            [
             1,
             "#f0f921"
            ]
           ]
          },
          "colorway": [
           "#636efa",
           "#EF553B",
           "#00cc96",
           "#ab63fa",
           "#FFA15A",
           "#19d3f3",
           "#FF6692",
           "#B6E880",
           "#FF97FF",
           "#FECB52"
          ],
          "font": {
           "color": "#2a3f5f"
          },
          "geo": {
           "bgcolor": "white",
           "lakecolor": "white",
           "landcolor": "#E5ECF6",
           "showlakes": true,
           "showland": true,
           "subunitcolor": "white"
          },
          "hoverlabel": {
           "align": "left"
          },
          "hovermode": "closest",
          "mapbox": {
           "style": "light"
          },
          "paper_bgcolor": "white",
          "plot_bgcolor": "#E5ECF6",
          "polar": {
           "angularaxis": {
            "gridcolor": "white",
            "linecolor": "white",
            "ticks": ""
           },
           "bgcolor": "#E5ECF6",
           "radialaxis": {
            "gridcolor": "white",
            "linecolor": "white",
            "ticks": ""
           }
          },
          "scene": {
           "xaxis": {
            "backgroundcolor": "#E5ECF6",
            "gridcolor": "white",
            "gridwidth": 2,
            "linecolor": "white",
            "showbackground": true,
            "ticks": "",
            "zerolinecolor": "white"
           },
           "yaxis": {
            "backgroundcolor": "#E5ECF6",
            "gridcolor": "white",
            "gridwidth": 2,
            "linecolor": "white",
            "showbackground": true,
            "ticks": "",
            "zerolinecolor": "white"
           },
           "zaxis": {
            "backgroundcolor": "#E5ECF6",
            "gridcolor": "white",
            "gridwidth": 2,
            "linecolor": "white",
            "showbackground": true,
            "ticks": "",
            "zerolinecolor": "white"
           }
          },
          "shapedefaults": {
           "line": {
            "color": "#2a3f5f"
           }
          },
          "ternary": {
           "aaxis": {
            "gridcolor": "white",
            "linecolor": "white",
            "ticks": ""
           },
           "baxis": {
            "gridcolor": "white",
            "linecolor": "white",
            "ticks": ""
           },
           "bgcolor": "#E5ECF6",
           "caxis": {
            "gridcolor": "white",
            "linecolor": "white",
            "ticks": ""
           }
          },
          "title": {
           "x": 0.05
          },
          "xaxis": {
           "automargin": true,
           "gridcolor": "white",
           "linecolor": "white",
           "ticks": "",
           "title": {
            "standoff": 15
           },
           "zerolinecolor": "white",
           "zerolinewidth": 2
          },
          "yaxis": {
           "automargin": true,
           "gridcolor": "white",
           "linecolor": "white",
           "ticks": "",
           "title": {
            "standoff": 15
           },
           "zerolinecolor": "white",
           "zerolinewidth": 2
          }
         }
        },
        "title": {
         "text": "Gráfico 3D - Plotly"
        }
       }
      }
     },
     "metadata": {},
     "output_type": "display_data"
    }
   ],
   "source": [
    "# -------------------------------\n",
    "# 3. Plotly (interativo)\n",
    "# -------------------------------\n",
    "fig = go.Figure(data=[go.Scatter3d(\n",
    "    x=dados['x1'], y=dados['x2'], z=dados['x3'],\n",
    "    mode='markers',\n",
    "    marker=dict(\n",
    "        size=6,\n",
    "        color=dados['y'],      # cor baseada em y\n",
    "        colorscale='Viridis',\n",
    "        opacity=0.8\n",
    "    )\n",
    ")])\n",
    "fig.update_layout(scene=dict(\n",
    "    xaxis_title='x1',\n",
    "    yaxis_title='x2',\n",
    "    zaxis_title='x3'),\n",
    "    title=\"Gráfico 3D - Plotly\"\n",
    ")\n",
    "fig.show()"
   ]
  },
  {
   "cell_type": "code",
   "execution_count": 95,
   "id": "741ded92",
   "metadata": {},
   "outputs": [
    {
     "name": "stdout",
     "output_type": "stream",
     "text": [
      "[[-0.6508  0.1097  4.0009 -1.     -1.    ]\n",
      " [-1.4492  0.8896  4.4005 -1.     -1.    ]\n",
      " [ 2.085   0.6876 12.071  -1.     -1.    ]\n",
      " [ 0.2626  1.1476  7.7985  1.     -1.    ]\n",
      " [ 0.6418  1.0234  7.0427  1.     -1.    ]\n",
      " [ 0.2569  0.673   8.3265 -1.     -1.    ]\n",
      " [ 1.1155  0.6043  7.4446  1.     -1.    ]\n",
      " [ 0.0914  0.3399  7.0677 -1.     -1.    ]\n",
      " [ 0.0121  0.5256  4.6316  1.     -1.    ]\n",
      " [-0.0429  0.466   5.4323  1.     -1.    ]\n",
      " [ 0.434   0.687   8.2287 -1.     -1.    ]\n",
      " [ 0.2735  1.0287  7.1934  1.     -1.    ]\n",
      " [ 0.4839  0.4851  7.485  -1.     -1.    ]\n",
      " [ 0.4089 -0.1267  5.5019 -1.     -1.    ]\n",
      " [ 1.4391  0.1614  8.5843 -1.     -1.    ]\n",
      " [-0.9115 -0.1973  2.1962 -1.     -1.    ]\n",
      " [ 0.3654  1.0475  7.4858  1.     -1.    ]\n",
      " [ 0.2144  0.7515  7.1699  1.     -1.    ]\n",
      " [ 0.2013  1.0014  6.5489  1.     -1.    ]\n",
      " [ 0.6483  0.2183  5.8991  1.     -1.    ]\n",
      " [-0.1147  0.2242  7.2435 -1.     -1.    ]\n",
      " [-0.797   0.8795  3.8762  1.     -1.    ]\n",
      " [-1.0625  0.6366  2.4707  1.     -1.    ]\n",
      " [ 0.5307  0.1285  5.6883  1.     -1.    ]\n",
      " [-1.22    0.7777  1.7252  1.     -1.    ]\n",
      " [ 0.3957  0.1076  5.6623 -1.     -1.    ]\n",
      " [-0.1013  0.5989  7.1812 -1.     -1.    ]\n",
      " [ 2.4482  0.9455 11.2095  1.     -1.    ]\n",
      " [ 2.0149  0.6192 10.9263 -1.     -1.    ]\n",
      " [ 0.2012  0.2611  5.4631  1.     -1.    ]]\n"
     ]
    }
   ],
   "source": [
    "bias = np.ones((n_amostras,1)) * -1\n",
    "x = np.hstack((x,bias))\n",
    "print(x)"
   ]
  },
  {
   "cell_type": "code",
   "execution_count": 96,
   "id": "b646824c",
   "metadata": {},
   "outputs": [
    {
     "name": "stdout",
     "output_type": "stream",
     "text": [
      "[-1. -1. -1.  1.  1. -1.  1. -1.  1.  1. -1.  1. -1. -1. -1. -1.  1.  1.\n",
      "  1.  1. -1.  1.  1.  1.  1. -1. -1.  1. -1.  1.]\n",
      "-1: 14\n",
      "-1: 16\n"
     ]
    }
   ],
   "source": [
    "#Passo 2\n",
    "y = dados.iloc[:, n_variaveis].values\n",
    "print(y)\n",
    "\n",
    "print(f\"-1: {(y == -1).sum()}\")\n",
    "print(f\"-1: {(y == 1).sum()}\")"
   ]
  },
  {
   "cell_type": "code",
   "execution_count": null,
   "id": "183ae240",
   "metadata": {},
   "outputs": [
    {
     "ename": "ValueError",
     "evalue": "shapes (4,) and (5,) not aligned: 4 (dim 0) != 5 (dim 0)",
     "output_type": "error",
     "traceback": [
      "\u001b[31m---------------------------------------------------------------------------\u001b[39m",
      "\u001b[31mValueError\u001b[39m                                Traceback (most recent call last)",
      "\u001b[36mCell\u001b[39m\u001b[36m \u001b[39m\u001b[32mIn[90]\u001b[39m\u001b[32m, line 39\u001b[39m\n\u001b[32m     37\u001b[39m indice_amostra = indices_embaralhados[i]\n\u001b[32m     38\u001b[39m xi_amostra = x[indice_amostra, :]\n\u001b[32m---> \u001b[39m\u001b[32m39\u001b[39m u = \u001b[43mnp\u001b[49m\u001b[43m.\u001b[49m\u001b[43mdot\u001b[49m\u001b[43m(\u001b[49m\u001b[43mw\u001b[49m\u001b[43m.\u001b[49m\u001b[43mT\u001b[49m\u001b[43m,\u001b[49m\u001b[43m \u001b[49m\u001b[43mxi_amostra\u001b[49m\u001b[43m)\u001b[49m\n\u001b[32m     40\u001b[39m yhat = degrau_bipolar(u)\n\u001b[32m     41\u001b[39m e = y[indice_amostra] - yhat\n",
      "\u001b[31mValueError\u001b[39m: shapes (4,) and (5,) not aligned: 4 (dim 0) != 5 (dim 0)"
     ]
    }
   ],
   "source": [
    "#Passo 3\n",
    "w = np.random.uniform(-1, 1, n_variaveis+1)\n",
    "\n",
    "#Passo 4\n",
    "#taxa de aprendizagem eta\n",
    "eta = 0.01\n",
    "\n",
    "#Passo 5\n",
    "#n_amostras\n",
    "\n",
    "#Passo 6\n",
    "tolerancia = 0.01\n",
    "\n",
    "#Passo 7\n",
    "erro_medio = tolerancia + 1\n",
    "\n",
    "#Passo 8\n",
    "erro_epocas = []\n",
    "\n",
    "#Passo 9\n",
    "epoca = 0\n",
    "\n",
    "#Passo 10\n",
    "max_epocas = 100\n",
    "\n",
    "#Passo 11\n",
    "criterio_erro = True\n",
    "criterio_epoca = True\n",
    "\n",
    "#Passo 12 13 14 15 16 17 18 19 20 21 22 23 24\n",
    "while(criterio_epoca and criterio_erro):\n",
    "   erro_atual = 0\n",
    "   epoca = epoca + 1\n",
    "   \n",
    "   indices_embaralhados = np.random.permutation(n_amostras)\n",
    "   for i in range(n_amostras):\n",
    "      indice_amostra = indices_embaralhados[i]\n",
    "      xi_amostra = x[indice_amostra, :]\n",
    "      u = np.dot(w.T, xi_amostra)\n",
    "      yhat = degrau_bipolar(u)\n",
    "      e = y[indice_amostra] - yhat\n",
    "      w = w + ((eta * e) * xi_amostra)\n",
    "      erro_atual = erro_atual + np.abs(e)\n",
    "      \n",
    "   erro_medio = erro_atual/n_amostras\n",
    "   erro_epocas.append(erro_medio)\n",
    "   \n",
    "   if erro_medio <= tolerancia:\n",
    "      criterio_erro = False\n",
    "   if epoca >= max_epocas:\n",
    "      criterio_epoca = False"
   ]
  },
  {
   "cell_type": "code",
   "execution_count": null,
   "id": "bacbaebe",
   "metadata": {},
   "outputs": [
    {
     "data": {
      "image/png": "[encoded data removed]",
      "text/plain": [
       "<Figure size 800x600 with 2 Axes>"
      ]
     },
     "metadata": {},
     "output_type": "display_data"
    }
   ],
   "source": [
    "# -------------------------------\n",
    "# CONVERGENCIA DE ERROS\n",
    "# -------------------------------\n",
    "\n",
    "plt.figure(figsize=(8,6))\n",
    "plt.plot(erro_epocas[:max_epocas])\n",
    "plt.title(\"Convergencia do erro\")\n",
    "plt.xlabel(\"Quant epocas\")\n",
    "plt.ylabel(\"Erro\")\n",
    "plt.grid\n",
    "plt.show()\n"
   ]
  },
  {
   "cell_type": "code",
   "execution_count": null,
   "id": "fd36d8a4",
   "metadata": {},
   "outputs": [],
   "source": [
    "print(\"Conjunto de pesos ideal (w*)\")\n",
    "print(w)\n",
    "\n",
    "print(\"Epocas necessárias para convergir\")\n",
    "print(epoca)"
   ]
  },
  {
   "cell_type": "markdown",
   "id": "03d75c66",
   "metadata": {},
   "source": [
    "<h2>Previsão</h2>"
   ]
  },
  {
   "cell_type": "code",
   "execution_count": null,
   "id": "69d1a2e7",
   "metadata": {},
   "outputs": [],
   "source": [
    "def previsao(w, x):\n",
    "   u = np.dot(w.T, x)\n",
    "   yhat = degrau_bipolar(u)\n",
    "   return yhat"
   ]
  },
  {
   "cell_type": "code",
   "execution_count": null,
   "id": "0eb54889",
   "metadata": {},
   "outputs": [
    {
     "ename": "ValueError",
     "evalue": "shapes (4,) and (5,) not aligned: 4 (dim 0) != 5 (dim 0)",
     "output_type": "error",
     "traceback": [
      "\u001b[31m---------------------------------------------------------------------------\u001b[39m",
      "\u001b[31mValueError\u001b[39m                                Traceback (most recent call last)",
      "\u001b[36mCell\u001b[39m\u001b[36m \u001b[39m\u001b[32mIn[71]\u001b[39m\u001b[32m, line 7\u001b[39m\n\u001b[32m      5\u001b[39m \u001b[38;5;66;03m#Armazenar todas as previsoes uma para cada amostra\u001b[39;00m\n\u001b[32m      6\u001b[39m \u001b[38;5;28;01mfor\u001b[39;00m i \u001b[38;5;129;01min\u001b[39;00m \u001b[38;5;28mrange\u001b[39m(n_amostras):\n\u001b[32m----> \u001b[39m\u001b[32m7\u001b[39m    yhat[i] = \u001b[43mprevisao\u001b[49m\u001b[43m(\u001b[49m\u001b[43mw\u001b[49m\u001b[43m,\u001b[49m\u001b[43m \u001b[49m\u001b[43mx\u001b[49m\u001b[43m[\u001b[49m\u001b[43mi\u001b[49m\u001b[43m,\u001b[49m\u001b[43m:\u001b[49m\u001b[43m]\u001b[49m\u001b[43m)\u001b[49m\n\u001b[32m      9\u001b[39m \u001b[38;5;28mprint\u001b[39m(yhat)\n",
      "\u001b[36mCell\u001b[39m\u001b[36m \u001b[39m\u001b[32mIn[70]\u001b[39m\u001b[32m, line 2\u001b[39m, in \u001b[36mprevisao\u001b[39m\u001b[34m(w, x)\u001b[39m\n\u001b[32m      1\u001b[39m \u001b[38;5;28;01mdef\u001b[39;00m\u001b[38;5;250m \u001b[39m\u001b[34mprevisao\u001b[39m(w, x):\n\u001b[32m----> \u001b[39m\u001b[32m2\u001b[39m    u = \u001b[43mnp\u001b[49m\u001b[43m.\u001b[49m\u001b[43mdot\u001b[49m\u001b[43m(\u001b[49m\u001b[43mw\u001b[49m\u001b[43m.\u001b[49m\u001b[43mT\u001b[49m\u001b[43m,\u001b[49m\u001b[43m \u001b[49m\u001b[43mx\u001b[49m\u001b[43m)\u001b[49m\n\u001b[32m      3\u001b[39m    yhat = degrau_bipolar(u)\n\u001b[32m      4\u001b[39m    \u001b[38;5;28;01mreturn\u001b[39;00m yhat\n",
      "\u001b[31mValueError\u001b[39m: shapes (4,) and (5,) not aligned: 4 (dim 0) != 5 (dim 0)"
     ]
    }
   ],
   "source": [
    "# Cria um vetor para receber todas as previsoes realizadas pela RNA\n",
    "\n",
    "yhat = np.zeros(n_amostras)\n",
    "\n",
    "#Armazenar todas as previsoes uma para cada amostra\n",
    "for i in range(n_amostras):\n",
    "   yhat[i] = previsao(w, x[i,:])\n",
    "\n",
    "print(yhat)"
   ]
  },
  {
   "cell_type": "markdown",
   "id": "7573f83d",
   "metadata": {},
   "source": [
    "<h2>ANÁLISE DA QUALIDADE DE CLASSIFICAÇÃO</h2>"
   ]
  },
  {
   "cell_type": "code",
   "execution_count": null,
   "id": "2ac50e63",
   "metadata": {},
   "outputs": [
    {
     "name": "stdout",
     "output_type": "stream",
     "text": [
      "MATRIZ DE CONFUSÂO\n",
      "[[14  0]\n",
      " [16  0]]\n"
     ]
    }
   ],
   "source": [
    "#converter -1 em 0\n",
    "yhat_display = np.where(yhat == -1,0,yhat)\n",
    "y_display = np.where(y== -1,0,y)\n",
    "\n",
    "#gera a matriz de confusao\n",
    "cm = confusion_matrix(y_display, yhat_display)\n",
    "print('MATRIZ DE CONFUSÂO')\n",
    "print(cm)\n",
    "\n",
    "#plotar matriz de confusão crocante\n",
    "plt.figure(figize=(4,3))\n",
    "sns.heatmap(cm, anott=True, fmt='d', cmap='Blue',\n",
    "            xticklabels=['Mimosa', 'Cheirosa'], yticklabels=['Mimosa', 'Cheirosa'])\n",
    "\n",
    "plt.title('Matriz de confusão')\n",
    "plt.xlabel('Valor real')\n",
    "plt.ylabel('Valor predito')\n",
    "plt.show()"
   ]
  },
  {
   "cell_type": "code",
   "execution_count": null,
   "id": "7c8fecf1",
   "metadata": {},
   "outputs": [
    {
     "name": "stdout",
     "output_type": "stream",
     "text": [
      "ACURACIA =  0.0 %\n"
     ]
    }
   ],
   "source": [
    "#calculo da acuracia\n",
    "acuracia = np.sum(yhat == y)/n_amostras\n",
    "print(\"ACURACIA = \", acuracia*100, \"%\")"
   ]
  },
  {
   "cell_type": "code",
   "execution_count": null,
   "id": "c1b0eae0",
   "metadata": {},
   "outputs": [
    {
     "data": {
      "image/png": "[encoded data removed]",
      "text/plain": [
       "<Figure size 400x400 with 1 Axes>"
      ]
     },
     "metadata": {},
     "output_type": "display_data"
    }
   ],
   "source": [
    "if cm.shape == (2, 2):\n",
    "   resultado = [cm[0, 0], cm[0, 1], cm[1, 1], cm[1, 0]]\n",
    "   labels = ['VV', 'VS', 'SS', 'SV']\n",
    "   colors = ['green', 'red', 'green', 'red']\n",
    "   \n",
    "   plt.figure(figsize=(4, 4))\n",
    "   plt.bar(labels, resultado, color=colors)\n",
    "   plt.xlabel('Previsões')\n",
    "   plt.ylabel('Quantidade')\n",
    "   plt.title('Resultado das Classificações')\n",
    "   plt.ylim(0, 20)\n",
    "   for i, v in enumerate(resultado):\n",
    "      plt.text(i, v + 0.2, str(v), ha='center')\n",
    "   plt.show()"
   ]
  },
  {
   "cell_type": "code",
   "execution_count": null,
   "id": "38a26211",
   "metadata": {},
   "outputs": [
    {
     "data": {
      "application/vnd.plotly.v1+json": {
       "config": {
        "plotlyServerURL": "https://plot.ly"
       },
       "data": [
        {
         "colorscale": [
          [
           0,
           "rgb(0, 0, 0)"
          ],
          [
           0.09090909090909091,
           "rgb(16, 16, 16)"
          ],
          [
           0.18181818181818182,
           "rgb(38, 38, 38)"
          ],
          [
           0.2727272727272727,
           "rgb(59, 59, 59)"
          ],
          [
           0.36363636363636365,
           "rgb(81, 80, 80)"
          ],
          [
           0.45454545454545453,
           "rgb(102, 101, 101)"
          ],
          [
           0.5454545454545454,
           "rgb(124, 123, 122)"
          ],
          [
           0.6363636363636364,
           "rgb(146, 146, 145)"
          ],
          [
           0.7272727272727273,
           "rgb(171, 171, 170)"
          ],
          [
           0.8181818181818182,
           "rgb(197, 197, 195)"
          ],
          [
           0.9090909090909091,
           "rgb(224, 224, 223)"
          ],
          [
           1,
           "rgb(254, 254, 253)"
          ]
         ],
         "name": "Hiperplano",
         "opacity": 0.3,
         "showscale": false,
         "type": "surface",
         "x": {
          "bdata": "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",
          "dtype": "f8",
          "shape": "20, 20"
         },
         "y": {
          "bdata": "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",
          "dtype": "f8",
          "shape": "20, 20"
         },
         "z": {
          "bdata": "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",
          "dtype": "f8",
          "shape": "20, 20"
         }
        },
        {
         "marker": {
          "color": [
           "blue",
           "blue",
           "blue",
           "blue",
           "blue",
           "blue",
           "blue",
           "blue",
           "blue",
           "blue",
           "blue",
           "blue",
           "blue",
           "blue",
           "blue",
           "blue",
           "blue",
           "blue",
           "blue",
           "blue",
           "blue",
           "blue",
           "blue",
           "blue",
           "blue",
           "blue",
           "blue",
           "blue",
           "blue",
           "blue"
          ],
          "line": {
           "color": "white",
           "width": 1
          },
          "opacity": 0.8,
          "size": 8
         },
         "mode": "markers",
         "name": "Amostras",
         "type": "scatter3d",
         "x": {
          "bdata": "3pOHhVrT5L+rz9VW7C/3v65H4XoUrgBAkX77OnDO0D9hVFInoInkP+LplbIMcdA/DAIrhxbZ8T/1udqK/WW3P4C3QILix4g/SS7/If32pb8tsp3vp8bbPxsv3SQGgdE/nDOitDf43j/PZtXnaivaPxHHuriNBvc/XrpJDAIr7b9tVn2utmLXP1OWIY51ccs/h6dXyjLEyT/J5T+k377kPz7o2az6XL2/Gy/dJAaB6b8AAAAAAADxvySX/5B+++A/hetRuB6F87+lvcEXJlPZP3S1FfvL7rm/oImw4emVA0DmriXkgx4AQP5D+u3rwMk/",
          "dtype": "f8"
         },
         "y": {
          "bdata": "9wZfmEwVvD/ysFBrmnfsP+JYF7fRAOY/zTtO0ZFc8j9Wn6ut2F/wP/Cnxks3ieU/LSEf9GxW4z/+Q/rt68DVPxniWBe30eA/bef7qfHS3T+WQ4ts5/vlP71SliGOdfA/zojS3uAL3z8PnDOitDfAv/CFyVTBqMQ/NxrAWyBByb/D9Shcj8LwPz81XrpJDOg/L26jAbwF8D8awFsgQfHLP4qw4emVssw/vp8aL90k7D90RpT2Bl/kP6abxCCwcsA/pSxDHOvi6D+WsgxxrIu7P3xhMlUwKuM/qMZLN4lB7j/G3LWEfNDjPxIUP8bctdA/",
          "dtype": "f8"
         },
         "z": {
          "bdata": "/kP67esAEEAnMQisHJoRQDEIrBxaJChAi2zn+6kxH0AkKH6MuSscQLpJDAIrpyBA1zTvOEXHHUC+wRcmU0UcQEmdgCbChhJAQj7o2ay6FUC+MJkqGHUgQIMvTKYKxhxAcT0K16PwHUAZc9cS8gEWQAkbnl4pKyFANs07TtGRAUBTliGOdfEdQJJc/kP6rRxA/Bhz1xIyGkCbVZ+rrZgXQNNNYhBY+RxApgpGJXUCD0BO0ZFc/sMDQOJYF7fRwBZAfPKwUGua+z8ukKD4MaYWQAskKH6MuRxAJQaBlUNrJkDRkVz+Q9olQEMc6+I22hVA",
          "dtype": "f8"
         }
        }
       ],
       "layout": {
        "height": 600,
        "scene": {
         "xaxis": {
          "title": {
           "text": "x1"
          }
         },
         "yaxis": {
          "title": {
           "text": "x2"
          }
         },
         "zaxis": {
          "title": {
           "text": "x3"
          }
         }
        },
        "template": {
         "data": {
          "bar": [
           {
            "error_x": {
             "color": "#2a3f5f"
            },
            "error_y": {
             "color": "#2a3f5f"
            },
            "marker": {
             "line": {
              "color": "#E5ECF6",
              "width": 0.5
             },
             "pattern": {
              "fillmode": "overlay",
              "size": 10,
              "solidity": 0.2
             }
            },
            "type": "bar"
           }
          ],
          "barpolar": [
           {
            "marker": {
             "line": {
              "color": "#E5ECF6",
              "width": 0.5
             },
             "pattern": {
              "fillmode": "overlay",
              "size": 10,
              "solidity": 0.2
             }
            },
            "type": "barpolar"
           }
          ],
          "carpet": [
           {
            "aaxis": {
             "endlinecolor": "#2a3f5f",
             "gridcolor": "white",
             "linecolor": "white",
             "minorgridcolor": "white",
             "startlinecolor": "#2a3f5f"
            },
            "baxis": {
             "endlinecolor": "#2a3f5f",
             "gridcolor": "white",
             "linecolor": "white",
             "minorgridcolor": "white",
             "startlinecolor": "#2a3f5f"
            },
            "type": "carpet"
           }
          ],
          "choropleth": [
           {
            "colorbar": {
             "outlinewidth": 0,
             "ticks": ""
            },
            "type": "choropleth"
           }
          ],
          "contour": [
           {
            "colorbar": {
             "outlinewidth": 0,
             "ticks": ""
            },
            "colorscale": [
             [
              0,
              "#0d0887"
             ],
             [
              0.1111111111111111,
              "#46039f"
             ],
             [
              0.2222222222222222,
              "#7201a8"
             ],
             [
              0.3333333333333333,
              "#9c179e"
             ],
             [
              0.4444444444444444,
              "#bd3786"
             ],
             [
              0.5555555555555556,
              "#d8576b"
             ],
             [
              0.6666666666666666,
              "#ed7953"
             ],
             [
              0.7777777777777778,
              "#fb9f3a"
             ],
             [
              0.8888888888888888,
              "#fdca26"
             ],
             [
              1,
              "#f0f921"
             ]
            ],
            "type": "contour"
           }
          ],
          "contourcarpet": [
           {
            "colorbar": {
             "outlinewidth": 0,
             "ticks": ""
            },
            "type": "contourcarpet"
           }
          ],
          "heatmap": [
           {
            "colorbar": {
             "outlinewidth": 0,
             "ticks": ""
            },
            "colorscale": [
             [
              0,
              "#0d0887"
             ],
             [
              0.1111111111111111,
              "#46039f"
             ],
             [
              0.2222222222222222,
              "#7201a8"
             ],
             [
              0.3333333333333333,
              "#9c179e"
             ],
             [
              0.4444444444444444,
              "#bd3786"
             ],
             [
              0.5555555555555556,
              "#d8576b"
             ],
             [
              0.6666666666666666,
              "#ed7953"
             ],
             [
              0.7777777777777778,
              "#fb9f3a"
             ],
             [
              0.8888888888888888,
              "#fdca26"
             ],
             [
              1,
              "#f0f921"
             ]
            ],
            "type": "heatmap"
           }
          ],
          "histogram": [
           {
            "marker": {
             "pattern": {
              "fillmode": "overlay",
              "size": 10,
              "solidity": 0.2
             }
            },
            "type": "histogram"
           }
          ],
          "histogram2d": [
           {
            "colorbar": {
             "outlinewidth": 0,
             "ticks": ""
            },
            "colorscale": [
             [
              0,
              "#0d0887"
             ],
             [
              0.1111111111111111,
              "#46039f"
             ],
             [
              0.2222222222222222,
              "#7201a8"
             ],
             [
              0.3333333333333333,
              "#9c179e"
             ],
             [
              0.4444444444444444,
              "#bd3786"
             ],
             [
              0.5555555555555556,
              "#d8576b"
             ],
             [
              0.6666666666666666,
              "#ed7953"
             ],
             [
              0.7777777777777778,
              "#fb9f3a"
             ],
             [
              0.8888888888888888,
              "#fdca26"
             ],
             [
              1,
              "#f0f921"
             ]
            ],
            "type": "histogram2d"
           }
          ],
          "histogram2dcontour": [
           {
            "colorbar": {
             "outlinewidth": 0,
             "ticks": ""
            },
            "colorscale": [
             [
              0,
              "#0d0887"
             ],
             [
              0.1111111111111111,
              "#46039f"
             ],
             [
              0.2222222222222222,
              "#7201a8"
             ],
             [
              0.3333333333333333,
              "#9c179e"
             ],
             [
              0.4444444444444444,
              "#bd3786"
             ],
             [
              0.5555555555555556,
              "#d8576b"
             ],
             [
              0.6666666666666666,
              "#ed7953"
             ],
             [
              0.7777777777777778,
              "#fb9f3a"
             ],
             [
              0.8888888888888888,
              "#fdca26"
             ],
             [
              1,
              "#f0f921"
             ]
            ],
            "type": "histogram2dcontour"
           }
          ],
          "mesh3d": [
           {
            "colorbar": {
             "outlinewidth": 0,
             "ticks": ""
            },
            "type": "mesh3d"
           }
          ],
          "parcoords": [
           {
            "line": {
             "colorbar": {
              "outlinewidth": 0,
              "ticks": ""
             }
            },
            "type": "parcoords"
           }
          ],
          "pie": [
           {
            "automargin": true,
            "type": "pie"
           }
          ],
          "scatter": [
           {
            "fillpattern": {
             "fillmode": "overlay",
             "size": 10,
             "solidity": 0.2
            },
            "type": "scatter"
           }
          ],
          "scatter3d": [
           {
            "line": {
             "colorbar": {
              "outlinewidth": 0,
              "ticks": ""
             }
            },
            "marker": {
             "colorbar": {
              "outlinewidth": 0,
              "ticks": ""
             }
            },
            "type": "scatter3d"
           }
          ],
          "scattercarpet": [
           {
            "marker": {
             "colorbar": {
              "outlinewidth": 0,
              "ticks": ""
             }
            },
            "type": "scattercarpet"
           }
          ],
          "scattergeo": [
           {
            "marker": {
             "colorbar": {
              "outlinewidth": 0,
              "ticks": ""
             }
            },
            "type": "scattergeo"
           }
          ],
          "scattergl": [
           {
            "marker": {
             "colorbar": {
              "outlinewidth": 0,
              "ticks": ""
             }
            },
            "type": "scattergl"
           }
          ],
          "scattermap": [
           {
            "marker": {
             "colorbar": {
              "outlinewidth": 0,
              "ticks": ""
             }
            },
            "type": "scattermap"
           }
          ],
          "scattermapbox": [
           {
            "marker": {
             "colorbar": {
              "outlinewidth": 0,
              "ticks": ""
             }
            },
            "type": "scattermapbox"
           }
          ],
          "scatterpolar": [
           {
            "marker": {
             "colorbar": {
              "outlinewidth": 0,
              "ticks": ""
             }
            },
            "type": "scatterpolar"
           }
          ],
          "scatterpolargl": [
           {
            "marker": {
             "colorbar": {
              "outlinewidth": 0,
              "ticks": ""
             }
            },
            "type": "scatterpolargl"
           }
          ],
          "scatterternary": [
           {
            "marker": {
             "colorbar": {
              "outlinewidth": 0,
              "ticks": ""
             }
            },
            "type": "scatterternary"
           }
          ],
          "surface": [
           {
            "colorbar": {
             "outlinewidth": 0,
             "ticks": ""
            },
            "colorscale": [
             [
              0,
              "#0d0887"
             ],
             [
              0.1111111111111111,
              "#46039f"
             ],
             [
              0.2222222222222222,
              "#7201a8"
             ],
             [
              0.3333333333333333,
              "#9c179e"
             ],
             [
              0.4444444444444444,
              "#bd3786"
             ],
             [
              0.5555555555555556,
              "#d8576b"
             ],
             [
              0.6666666666666666,
              "#ed7953"
             ],
             [
              0.7777777777777778,
              "#fb9f3a"
             ],
             [
              0.8888888888888888,
              "#fdca26"
             ],
             [
              1,
              "#f0f921"
             ]
            ],
            "type": "surface"
           }
          ],
          "table": [
           {
            "cells": {
             "fill": {
              "color": "#EBF0F8"
             },
             "line": {
              "color": "white"
             }
            },
            "header": {
             "fill": {
              "color": "#C8D4E3"
             },
             "line": {
              "color": "white"
             }
            },
            "type": "table"
           }
          ]
         },
         "layout": {
          "annotationdefaults": {
           "arrowcolor": "#2a3f5f",
           "arrowhead": 0,
           "arrowwidth": 1
          },
          "autotypenumbers": "strict",
          "coloraxis": {
           "colorbar": {
            "outlinewidth": 0,
            "ticks": ""
           }
          },
          "colorscale": {
           "diverging": [
            [
             0,
             "#8e0152"
            ],
            [
             0.1,
             "#c51b7d"
            ],
            [
             0.2,
             "#de77ae"
            ],
            [
             0.3,
             "#f1b6da"
            ],
            [
             0.4,
             "#fde0ef"
            ],
            [
             0.5,
             "#f7f7f7"
            ],
            [
             0.6,
             "#e6f5d0"
            ],
            [
             0.7,
             "#b8e186"
            ],
            [
             0.8,
             "#7fbc41"
            ],
            [
             0.9,
             "#4d9221"
            ],
            [
             1,
             "#276419"
            ]
           ],
           "sequential": [
            [
             0,
             "#0d0887"
            ],
            [
             0.1111111111111111,
             "#46039f"
            ],
            [
             0.2222222222222222,
             "#7201a8"
            ],
            [
             0.3333333333333333,
             "#9c179e"
            ],
            [
             0.4444444444444444,
             "#bd3786"
            ],
            [
             0.5555555555555556,
             "#d8576b"
            ],
            [
             0.6666666666666666,
             "#ed7953"
            ],
            [
             0.7777777777777778,
             "#fb9f3a"
            ],
            [
             0.8888888888888888,
             "#fdca26"
            ],
            [
             1,
             "#f0f921"
            ]
           ],
           "sequentialminus": [
            [
             0,
             "#0d0887"
            ],
            [
             0.1111111111111111,
             "#46039f"
            ],
            [
             0.2222222222222222,
             "#7201a8"
            ],
            [
             0.3333333333333333,
             "#9c179e"
            ],
            [
             0.4444444444444444,
             "#bd3786"
            ],
            [
             0.5555555555555556,
             "#d8576b"
            ],
            [
             0.6666666666666666,
             "#ed7953"
            ],
            [
             0.7777777777777778,
             "#fb9f3a"
            ],
            [
             0.8888888888888888,
             "#fdca26"
            ],
            [
             1,
             "#f0f921"
            ]
           ]
          },
          "colorway": [
           "#636efa",
           "#EF553B",
           "#00cc96",
           "#ab63fa",
           "#FFA15A",
           "#19d3f3",
           "#FF6692",
           "#B6E880",
           "#FF97FF",
           "#FECB52"
          ],
          "font": {
           "color": "#2a3f5f"
          },
          "geo": {
           "bgcolor": "white",
           "lakecolor": "white",
           "landcolor": "#E5ECF6",
           "showlakes": true,
           "showland": true,
           "subunitcolor": "white"
          },
          "hoverlabel": {
           "align": "left"
          },
          "hovermode": "closest",
          "mapbox": {
           "style": "light"
          },
          "paper_bgcolor": "white",
          "plot_bgcolor": "#E5ECF6",
          "polar": {
           "angularaxis": {
            "gridcolor": "white",
            "linecolor": "white",
            "ticks": ""
           },
           "bgcolor": "#E5ECF6",
           "radialaxis": {
            "gridcolor": "white",
            "linecolor": "white",
            "ticks": ""
           }
          },
          "scene": {
           "xaxis": {
            "backgroundcolor": "#E5ECF6",
            "gridcolor": "white",
            "gridwidth": 2,
            "linecolor": "white",
            "showbackground": true,
            "ticks": "",
            "zerolinecolor": "white"
           },
           "yaxis": {
            "backgroundcolor": "#E5ECF6",
            "gridcolor": "white",
            "gridwidth": 2,
            "linecolor": "white",
            "showbackground": true,
            "ticks": "",
            "zerolinecolor": "white"
           },
           "zaxis": {
            "backgroundcolor": "#E5ECF6",
            "gridcolor": "white",
            "gridwidth": 2,
            "linecolor": "white",
            "showbackground": true,
            "ticks": "",
            "zerolinecolor": "white"
           }
          },
          "shapedefaults": {
           "line": {
            "color": "#2a3f5f"
           }
          },
          "ternary": {
           "aaxis": {
            "gridcolor": "white",
            "linecolor": "white",
            "ticks": ""
           },
           "baxis": {
            "gridcolor": "white",
            "linecolor": "white",
            "ticks": ""
           },
           "bgcolor": "#E5ECF6",
           "caxis": {
            "gridcolor": "white",
            "linecolor": "white",
            "ticks": ""
           }
          },
          "title": {
           "x": 0.05
          },
          "xaxis": {
           "automargin": true,
           "gridcolor": "white",
           "linecolor": "white",
           "ticks": "",
           "title": {
            "standoff": 15
           },
           "zerolinecolor": "white",
           "zerolinewidth": 2
          },
          "yaxis": {
           "automargin": true,
           "gridcolor": "white",
           "linecolor": "white",
           "ticks": "",
           "title": {
            "standoff": 15
           },
           "zerolinecolor": "white",
           "zerolinewidth": 2
          }
         }
        },
        "title": {
         "text": "Classificação"
        },
        "width": 800
       }
      }
     },
     "metadata": {},
     "output_type": "display_data"
    }
   ],
   "source": [
    "#criar grafico 3d interativo\n",
    "colors = ['red' if y == -1 else 'blue' for y in yhat]\n",
    "\n",
    "#criar malha para o hiperplano\n",
    "x1_range = np.linspace(x[:, 0].min() - 0.5, x[:, 0].max() + 0.5, 20)\n",
    "x2_range = np.linspace(x[:, 1].min() - 0.5, x[:, 1].max() + 0.5, 20)\n",
    "x1_grid, x2_grid = np.meshgrid(x1_range, x2_range)\n",
    "\n",
    "#calcular x3 para o hiperplano: w0*x1 + w1*x2 + w2*x3 + w3*(-1) = 0\n",
    "#x3 = (w0*x1 + w1*x2 - w3) / (-w2)\n",
    "x3_grid = (w[0] * x1_grid + w[1] * x2_grid - w[3]) / (-w[2])\n",
    "\n",
    "fig = go.Figure()\n",
    "\n",
    "#adicionar o hiperplano\n",
    "fig.add_trace(go.Surface(\n",
    "   x=x1_grid,\n",
    "   y=x2_grid,\n",
    "   z=x3_grid,\n",
    "   colorscale='gray',\n",
    "   opacity=0.3,\n",
    "   showscale=False,\n",
    "   name='Hiperplano'\n",
    "))\n",
    "\n",
    "#adicionar os pontos\n",
    "fig.add_trace(go.Scatter3d(\n",
    "   x=x[:, 0],\n",
    "   y=x[:, 1],\n",
    "   z=x[:, 2],\n",
    "   mode='markers',\n",
    "   marker=dict(\n",
    "      size=8,\n",
    "      color=colors,\n",
    "      opacity=0.8,\n",
    "      line=dict(width=1, color='white')\n",
    "   ),\n",
    "   name='Amostras'\n",
    "))\n",
    "\n",
    "fig.update_layout(\n",
    "   title='Classificação',\n",
    "   scene=dict(\n",
    "      xaxis_title='x1',\n",
    "      yaxis_title='x2',\n",
    "      zaxis_title='x3'\n",
    "   ),\n",
    "   width=800,\n",
    "   height=600\n",
    ")\n"
   ]
  }
 ],
 "metadata": {
  "kernelspec": {
   "display_name": "RNA",
   "language": "python",
   "name": "python3"
  },
  "language_info": {
   "codemirror_mode": {
    "name": "ipython",
    "version": 3
   },
   "file_extension": ".py",
   "mimetype": "text/x-python",
   "name": "python",
   "nbconvert_exporter": "python",
   "pygments_lexer": "ipython3",
   "version": "3.11.13"
  }
 },
 "nbformat": 4,
 "nbformat_minor": 5
}
