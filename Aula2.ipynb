{
 "cells": [
  {
   "cell_type": "markdown",
   "id": "b8902d50",
   "metadata": {},
   "source": [
    "# Atividade: Petalas\n",
    "\n",
    "**INSTITUTO FEDERAL DE MINAS GERAIS BAMBUI**\n",
    "\n",
    "**Pofessor:** Ciniro Nametala\n",
    "\n",
    "**Aluno:** Ricardo Antonio"
   ]
  },
  {
   "cell_type": "code",
   "execution_count": 5,
   "id": "8086dfea",
   "metadata": {},
   "outputs": [],
   "source": [
    "import numpy as np\n",
    "import pandas as pd\n",
    "import matplotlib.pyplot as plt\n",
    "import pygwalker as pyg\n",
    "from sklearn.metrics import confusion_matrix, classification_report\n",
    "import seaborn as sns\n",
    "import plotly.graph_objects as go"
   ]
  },
  {
   "cell_type": "code",
   "execution_count": null,
   "id": "15998381",
   "metadata": {},
   "outputs": [],
   "source": [
    "dados = pd.read_csv('dataset_iris.csv', sep=';', decimal=',')\n",
    "\n",
    "dados['x'] = pd.to_numeric(dados['x'], errors='coerce')\n",
    "dados['y'] = pd.to_numeric(dados['y'], errors='coerce')\n",
    "\n",
    "dados.head()\n",
    "\n",
    "# plt.figure(figsize=(10,2))\n",
    "# plt.scatter(dados['x'], dados['y'], c='black', s=10)\n",
    "# plt.xlim(0,6)\n",
    "# plt.ylim(0,6)\n",
    "# plt.xlabel(\"x\")\n",
    "# plt.ylabel(\"y\")\n",
    "# plt.grid(True, alpha=0.3)\n",
    "# plt.show()"
   ]
  }
 ],
 "metadata": {
  "kernelspec": {
   "display_name": "RNA",
   "language": "python",
   "name": "python3"
  },
  "language_info": {
   "codemirror_mode": {
    "name": "ipython",
    "version": 3
   },
   "file_extension": ".py",
   "mimetype": "text/x-python",
   "name": "python",
   "nbconvert_exporter": "python",
   "pygments_lexer": "ipython3",
   "version": "3.11.13"
  }
 },
 "nbformat": 4,
 "nbformat_minor": 5
}
