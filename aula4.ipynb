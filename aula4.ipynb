{
 "cells": [
  {
   "cell_type": "markdown",
   "id": "84911fe1",
   "metadata": {},
   "source": [
    "# Aula: Multilayer Perceptron aplicada ao problema XOR\n",
    "\n",
    "**INSTITUTO FEDERAL DE MINAS GERAIS BAMBUI**\n",
    "\n",
    "**Pofessor:** Ciniro Nametala\n",
    "\n",
    "**Aluno:** Ricardo Antonio"
   ]
  },
  {
   "cell_type": "code",
   "execution_count": 167,
   "id": "0716e4d6",
   "metadata": {},
   "outputs": [],
   "source": [
    "import numpy as np\n",
    "import matplotlib.pyplot as plt"
   ]
  },
  {
   "cell_type": "code",
   "execution_count": 168,
   "id": "c4d8bd02",
   "metadata": {},
   "outputs": [],
   "source": [
    "#funcao que implementa a secante hiperbolica ao quadrado\n",
    "#(inversa da tangente hiperbolica)\n",
    "def sech2(u):\n",
    "   return 1 / np.cosh(u)**2"
   ]
  },
  {
   "cell_type": "code",
   "execution_count": 169,
   "id": "56419ef8",
   "metadata": {},
   "outputs": [],
   "source": [
    "#preparacao dos dados\n",
    "x = np.array([[0, 0], [0, 1], [1, 0], [1, 1]])\n",
    "y = np.array([[-1, 1], [1, -1], [1, -1], [-1, 1]])"
   ]
  },
  {
   "cell_type": "code",
   "execution_count": 170,
   "id": "bf652443",
   "metadata": {},
   "outputs": [],
   "source": [
    "#criacao dos bias\n",
    "i1 = 1\n",
    "i4 = 1\n",
    "i5 = 1\n",
    "i8 = 1"
   ]
  },
  {
   "cell_type": "code",
   "execution_count": 171,
   "id": "9cb80d90",
   "metadata": {},
   "outputs": [],
   "source": [
    "#inicializacao dos pesos\n",
    "w61 = np.random.uniform() - 0.5\n",
    "w62 = np.random.uniform() - 0.5\n",
    "w63 = np.random.uniform() - 0.5\n",
    "w72 = np.random.uniform() - 0.5\n",
    "w73 = np.random.uniform() - 0.5\n",
    "w74 = np.random.uniform() - 0.5\n",
    "w95 = np.random.uniform() - 0.5\n",
    "w96 = np.random.uniform() - 0.5\n",
    "w97 = np.random.uniform() - 0.5\n",
    "w106 = np.random.uniform() - 0.5\n",
    "w107 = np.random.uniform() - 0.5\n",
    "w108 = np.random.uniform() - 0.5"
   ]
  },
  {
   "cell_type": "code",
   "execution_count": 172,
   "id": "edd67992",
   "metadata": {},
   "outputs": [],
   "source": [
    "contador_epocas = 0\n",
    "tol = 0\n",
    "erro_epoca_atual = tol + 1\n",
    "n_amostras = 4\n",
    "max_epocas = 10000\n",
    "eta = 0.01\n",
    "erro_epocas = np.zeros(max_epocas)"
   ]
  },
  {
   "cell_type": "code",
   "execution_count": 173,
   "id": "d9771efc",
   "metadata": {},
   "outputs": [],
   "source": [
    "#treinamento da rede\n",
    "while (contador_epocas < max_epocas) and (erro_epoca_atual > tol):\n",
    "   #exibe progresso a cada 10 epocas\n",
    "   # if contador_epocas % 10 == 0:\n",
    "   #    print(f\"epoca {contador_epocas}\")\n",
    "   \n",
    "   #inicializa erro acumulado da epoca\n",
    "   erro = 0\n",
    "   \n",
    "   #embaralha indices para apresentacao aleatoria dos padroes\n",
    "   indices_embaralhados = np.random.permutation(n_amostras)\n",
    "   \n",
    "   for i in range(n_amostras):\n",
    "      #seleciona indice aleatorio\n",
    "      indice_selecionado = indices_embaralhados[i]\n",
    "      \n",
    "      #obtem padrao de entrada e saida desejada\n",
    "      xi = x[indice_selecionado]\n",
    "      yi = y[indice_selecionado]\n",
    "      \n",
    "      #separa componentes da entrada#\n",
    "      i2 = xi[0]\n",
    "      i3 = xi[1]      \n",
    "      \n",
    "      #separa componentes da saida desejada\n",
    "      y9 = yi[1]\n",
    "      y10 = yi[0]\n",
    "      \n",
    "      #FASE FORWARD -----------\n",
    "      \n",
    "      #calcula ativacao do neuronio 1 da camada 1\n",
    "      u6 = i1 * w61 + i2 * w62 + i3 * w63\n",
    "      i6 = np.tanh(u6)\n",
    "      \n",
    "      #calcula ativacao do neuronio 2 da camada 2\n",
    "      u7 = i2 * w72 + i3 * w73 + i4 * w74\n",
    "      i7 = np.tanh(u7)\n",
    "      \n",
    "      #calcula ativacao do neuronio 1 da camada 2\n",
    "      u9 = i5 * w95 + i6 * w96 + i7 * w97\n",
    "      i9 = np.tanh(u9)\n",
    "      \n",
    "      #calcula ativacao do neuronio 2 da camada 2\n",
    "      u10 = i6 * w106 + i7 * w107 + i8 * w108\n",
    "      i10 = np.tanh(u10)\n",
    "      \n",
    "      #FASE BACKWARD -----------\n",
    "      \n",
    "      #calcula erro da saida\n",
    "      e9 = y9 - i9\n",
    "      e10 = y10 - i10\n",
    "      \n",
    "      #ATUALIZACAO DE PESOS DA CAMADA 2\n",
    "      \n",
    "      #PESOS LIGADOS AO NEURONIO 1 DA CAMADA 2\n",
    "      \n",
    "      #calcula gradiente local do neuronio 1 da camada 2\n",
    "      deltinha9 = e9 * sech2(u9)\n",
    "      \n",
    "      #calcula ajustes dos pesos do neuronio 1 da camada 2\n",
    "      deltaw95 = eta * deltinha9 * i5\n",
    "      deltaw96 = eta * deltinha9 * i6\n",
    "      deltaw97 = eta * deltinha9 * i7\n",
    "      \n",
    "      # atualizacao de pesos ligados ao neuronio 1 da camada 2\n",
    "      w95 = w95 + deltaw95\n",
    "      w96 = w96 + deltaw96\n",
    "      w97 = w97 + deltaw97\n",
    "      \n",
    "      #PESOS LIGADOS AO NEURONIO 2 DA CAMADA 2\n",
    "      \n",
    "      #calcula gradiente local do neuronio 2 da camada 2\n",
    "      deltinha10 = e10 * sech2(u10)\n",
    "      \n",
    "      #calcula ajustes dos pesos do neuronio 2 da camada 2\n",
    "      deltaw106 = eta * deltinha10 * i6\n",
    "      deltaw107 = eta * deltinha10 * i7\n",
    "      deltaw108 = eta * deltinha10 * i8\n",
    "   \n",
    "      #atualizacao de pesos ligados ao neuronio 2 da camada 2\n",
    "      w106 = w106 + deltaw106\n",
    "      w107 = w107 + deltaw107\n",
    "      w108 = w108 + deltaw108\n",
    "      \n",
    "      #ATUALIZACAO DE PESOS DA CAMADA 1\n",
    "      \n",
    "      #PESOS LIGADOS AO NEURONIO 1 DA CAMADA 1\n",
    "      \n",
    "      #calcula gradiente local do neuronio 1 da camada 1\n",
    "      deltinha6 = sech2(u6) * (deltinha9 * w96 + deltinha10 * w106)\n",
    "      \n",
    "      #calcula ajustes dos pesos do neuronio 1 da camada 1\n",
    "      deltaw61 = eta * deltinha6 * i1\n",
    "      deltaw62 = eta * deltinha6 * i2\n",
    "      deltaw63 = eta * deltinha6 * i3\n",
    "      \n",
    "      #atualiza pesos do neuronio 1 da camada 1\n",
    "      w61 = w61 + deltaw61\n",
    "      w62 = w62 + deltaw62\n",
    "      w63 = w63 + deltaw63\n",
    "      \n",
    "      #PESOS LIGADOS AO NEURONIO 2 DA CAMADA 1\n",
    "      \n",
    "      #calcula gradiente local do neuronio 2 da camada 1\n",
    "      deltinha7 = sech2(u7) * (deltinha9 * w97 + deltinha10 * w107)\n",
    "      \n",
    "      \n",
    "      #calcula ajustes dos pesos do neuronio 2 da camada 1\n",
    "      deltaw72 = eta * deltinha7 * i2\n",
    "      deltaw73 = eta * deltinha7 * i3\n",
    "      deltaw74 = eta * deltinha7 * i4\n",
    "      \n",
    "      #atualiza pesos do neuronio 2 da camada 1\n",
    "      w72 = w72 + deltaw72\n",
    "      w73 = w73 + deltaw73\n",
    "      w74 = w74 + deltaw74\n",
    "      \n",
    "      #CALCULO DO ERRO\n",
    "      #acumula erro quadratico do padrao\n",
    "      erro = erro + (np.pow(e9, 2) + np.pow(e10, 2))\n",
    "   \n",
    "   #incrementa contador de epocas\n",
    "   contador_epocas = contador_epocas + 1\n",
    "   \n",
    "   #calcula erro medio da epoca\n",
    "   erro_epoca_atual = erro / n_amostras\n",
    "   \n",
    "   #armazena historico de erro\n",
    "   erro_epocas[contador_epocas - 1] = erro_epoca_atual"
   ]
  },
  {
   "cell_type": "code",
   "execution_count": 174,
   "id": "55251c78",
   "metadata": {},
   "outputs": [
    {
     "data": {
      "image/png": "[encoded data removed]",
      "text/plain": [
       "<Figure size 500x300 with 1 Axes>"
      ]
     },
     "metadata": {},
     "output_type": "display_data"
    }
   ],
   "source": [
    "#grafico de convergencia\n",
    "plt.figure(figsize=(5, 3))\n",
    "plt.plot(range(contador_epocas), erro_epocas[:contador_epocas])\n",
    "plt.title('grafico de convergencia')\n",
    "plt.xlabel('epoca')\n",
    "plt.ylabel('erro')\n",
    "plt.grid(True)\n",
    "plt.show()"
   ]
  },
  {
   "cell_type": "code",
   "execution_count": 175,
   "id": "4f463e37",
   "metadata": {},
   "outputs": [],
   "source": [
    "#algoritmo de previsao\n",
    "yhat_mat = np.zeros((4, 2))\n",
    "\n",
    "for i in range(n_amostras):\n",
    "   xi = x[i]\n",
    "   yi = y[i]\n",
    "   i3 = xi[1]\n",
    "   i2 = xi[0]\n",
    "   y9 = yi[1]\n",
    "   y10 = yi[0]\n",
    "   \n",
    "   u6 = i1 * w61 + i2 * w62 + i3 * w63\n",
    "   i6 = np.tanh(u6)\n",
    "   \n",
    "   u7 = i2 * w72 + i3 * w73 + i4 * w74\n",
    "   i7 = np.tanh(u7)\n",
    "   \n",
    "   u9 = i5 * w95 + i6 * w96 + i7 * w97\n",
    "   i9 = np.tanh(u9)\n",
    "   \n",
    "   u10 = i6 * w106 + i7 * w107 + i8 * w108\n",
    "   i10 = np.tanh(u10)\n",
    "   \n",
    "   yhat_mat[i, 0] = i10\n",
    "   yhat_mat[i, 1] = i9"
   ]
  },
  {
   "cell_type": "code",
   "execution_count": 176,
   "id": "4e2d8e54",
   "metadata": {},
   "outputs": [
    {
     "name": "stdout",
     "output_type": "stream",
     "text": [
      "\n",
      "x1\tx2\tyhat1\t\tyhat2\n",
      "-1.0\t1.0\t-0.963081\t0.963008\n",
      "1.0\t-1.0\t0.965138\t-0.965120\n",
      "1.0\t-1.0\t-0.002353\t0.002354\n",
      "-1.0\t1.0\t0.000895\t-0.000892\n"
     ]
    }
   ],
   "source": [
    "#resultado final\n",
    "mat_final = np.column_stack((y, yhat_mat))\n",
    "print(\"\\nx1\\tx2\\tyhat1\\t\\tyhat2\")\n",
    "for linha in mat_final:\n",
    "   print(f\"{linha[0]:.1f}\\t{linha[1]:.1f}\\t{linha[2]:.6f}\\t{linha[3]:.6f}\")"
   ]
  }
 ],
 "metadata": {
  "kernelspec": {
   "display_name": "RNA",
   "language": "python",
   "name": "python3"
  },
  "language_info": {
   "codemirror_mode": {
    "name": "ipython",
    "version": 3
   },
   "file_extension": ".py",
   "mimetype": "text/x-python",
   "name": "python",
   "nbconvert_exporter": "python",
   "pygments_lexer": "ipython3",
   "version": "3.11.13"
  }
 },
 "nbformat": 4,
 "nbformat_minor": 5
}
