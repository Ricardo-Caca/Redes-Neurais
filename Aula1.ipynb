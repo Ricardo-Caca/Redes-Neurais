{
 "cells": [
  {
   "cell_type": "markdown",
   "id": "b8902d50",
   "metadata": {},
   "source": [
    "# Atividade: Neurônio Artificial\n",
    "\n",
    "**INSTITUTO FEDERAL DE MINAS GERAIS BAMBUI**\n",
    "\n",
    "**Pofessor:** Ciniro Nametala\n",
    "\n",
    "**Aluno:** Ricardo Antonio"
   ]
  },
  {
   "cell_type": "code",
   "execution_count": 221,
   "id": "8c9c5408",
   "metadata": {},
   "outputs": [
    {
     "name": "stdout",
     "output_type": "stream",
     "text": [
      "Diretório atual: c:\\Users\\ricar\\OneDrive\\Área de Trabalho\\Redes Neurais\\Redes-Neurais\n"
     ]
    },
    {
     "data": {
      "image/png": "[encoded data removed]",
      "text/plain": [
       "<Figure size 800x800 with 1 Axes>"
      ]
     },
     "metadata": {},
     "output_type": "display_data"
    }
   ],
   "source": [
    "import pandas as pd\n",
    "import matplotlib.pyplot as plt\n",
    "import os\n",
    "\n",
    "cwd = os.getcwd()\n",
    "print(f\"Diretório atual: {cwd}\")\n",
    "caminho_csv = os.path.join(cwd, \"xy.csv\")\n",
    "\n",
    "def plot_csv_xy(caminho_csv):\n",
    "    \"\"\"\n",
    "    Lê um CSV com duas colunas (x,y) e plota um gráfico de linha.\n",
    "    Tenta detectar automaticamente o separador e cabeçalho.\n",
    "    \"\"\"\n",
    "    try:\n",
    "        # Detecta automaticamente o separador\n",
    "        df = pd.read_csv(caminho_csv, sep=None, engine=\"python\")\n",
    "    except Exception as e:\n",
    "        raise ValueError(f\"Erro ao ler o CSV: {e}\")\n",
    "\n",
    "    # Remove espaços extras do nome das colunas\n",
    "    df.columns = df.columns.str.strip().str.lower()\n",
    "    \n",
    "    # Se não encontrar 'x' e 'y', tenta assumir as duas primeiras colunas\n",
    "    if not {'x', 'y'}.issubset(df.columns):\n",
    "        print(\"⚠️ Colunas 'x' e 'y' não encontradas. Usando as duas primeiras colunas do arquivo.\")\n",
    "        df = df.iloc[:, :2]\n",
    "        df.columns = ['x', 'y']\n",
    "\n",
    "    # Plota o gráfico\n",
    "    plt.figure(figsize=(8,8))\n",
    "    plt.scatter(df['x'], df['y'], c='black', s=10)\n",
    "    plt.xlim(0,6)\n",
    "    plt.ylim(0,6)\n",
    "    plt.xlabel(\"x\")\n",
    "    plt.ylabel(\"y\")\n",
    "    plt.grid(True, alpha=0.3)\n",
    "    plt.show()\n",
    "\n",
    "# Exemplo de uso\n",
    "plot_csv_xy(caminho_csv)\n"
   ]
  },
  {
   "cell_type": "code",
   "execution_count": 222,
   "id": "8526e8d4",
   "metadata": {},
   "outputs": [],
   "source": [
    "import numpy as np\n",
    "import pandas as pd\n",
    "import matplotlib.pyplot as plt"
   ]
  },
  {
   "cell_type": "code",
   "execution_count": 223,
   "id": "c68ae84c",
   "metadata": {},
   "outputs": [],
   "source": [
    "#função neuronio\n",
    "def neuronio(x,y,w0,w1,w2,bias):\n",
    "   somatorio_neuronios = x*w1 + y*w2\n",
    "   bia = bias*w0\n",
    "   return 1 if somatorio_neuronios - bia > 0 else 0"
   ]
  },
  {
   "cell_type": "code",
   "execution_count": 224,
   "id": "282d1be6",
   "metadata": {},
   "outputs": [
    {
     "data": {
      "image/png": "[encoded data removed]",
      "text/plain": [
       "<Figure size 1000x200 with 1 Axes>"
      ]
     },
     "metadata": {},
     "output_type": "display_data"
    }
   ],
   "source": [
    "dados = pd.read_csv('xy.csv', sep=';', decimal=',')\n",
    "\n",
    "dados['x'] = pd.to_numeric(dados['x'], errors='coerce')\n",
    "dados['y'] = pd.to_numeric(dados['y'], errors='coerce')\n",
    "\n",
    "dados.head()\n",
    "\n",
    "plt.figure(figsize=(10,2))\n",
    "plt.scatter(dados['x'], dados['y'], c='black', s=10)\n",
    "plt.xlim(0,6)\n",
    "plt.ylim(0,6)\n",
    "plt.xlabel(\"x\")\n",
    "plt.ylabel(\"y\")\n",
    "plt.grid(True, alpha=0.3)\n",
    "plt.show()\n"
   ]
  },
  {
   "cell_type": "code",
   "execution_count": null,
   "id": "6912d010",
   "metadata": {},
   "outputs": [
    {
     "name": "stdout",
     "output_type": "stream",
     "text": [
      "0.428096594434932\n",
      "0.7482493032314788\n"
     ]
    },
    {
     "data": {
      "text/html": [
       "<div>\n",
       "<style scoped>\n",
       "    .dataframe tbody tr th:only-of-type {\n",
       "        vertical-align: middle;\n",
       "    }\n",
       "\n",
       "    .dataframe tbody tr th {\n",
       "        vertical-align: top;\n",
       "    }\n",
       "\n",
       "    .dataframe thead th {\n",
       "        text-align: right;\n",
       "    }\n",
       "</style>\n",
       "<table border=\"1\" class=\"dataframe\">\n",
       "  <thead>\n",
       "    <tr style=\"text-align: right;\">\n",
       "      <th></th>\n",
       "      <th>x</th>\n",
       "      <th>y</th>\n",
       "      <th>classe</th>\n",
       "    </tr>\n",
       "  </thead>\n",
       "  <tbody>\n",
       "    <tr>\n",
       "      <th>0</th>\n",
       "      <td>1.183988</td>\n",
       "      <td>1.832880</td>\n",
       "      <td>0</td>\n",
       "    </tr>\n",
       "    <tr>\n",
       "      <th>1</th>\n",
       "      <td>1.523565</td>\n",
       "      <td>2.293337</td>\n",
       "      <td>0</td>\n",
       "    </tr>\n",
       "    <tr>\n",
       "      <th>2</th>\n",
       "      <td>2.199241</td>\n",
       "      <td>2.342880</td>\n",
       "      <td>0</td>\n",
       "    </tr>\n",
       "    <tr>\n",
       "      <th>3</th>\n",
       "      <td>2.768052</td>\n",
       "      <td>2.179136</td>\n",
       "      <td>0</td>\n",
       "    </tr>\n",
       "    <tr>\n",
       "      <th>4</th>\n",
       "      <td>2.165374</td>\n",
       "      <td>1.888445</td>\n",
       "      <td>0</td>\n",
       "    </tr>\n",
       "  </tbody>\n",
       "</table>\n",
       "</div>"
      ],
      "text/plain": [
       "          x         y  classe\n",
       "0  1.183988  1.832880       0\n",
       "1  1.523565  2.293337       0\n",
       "2  2.199241  2.342880       0\n",
       "3  2.768052  2.179136       0\n",
       "4  2.165374  1.888445       0"
      ]
     },
     "execution_count": 225,
     "metadata": {},
     "output_type": "execute_result"
    }
   ],
   "source": [
    "import random\n",
    "w0 = random.random()\n",
    "print(w0)\n",
    "w1 = random.random()\n",
    "print(w1)\n",
    "w2 = -1\n",
    "bias = 1\n",
    "\n",
    "classificacoes = []\n",
    "for i, linha in dados.iterrows():\n",
    "   classe = neuronio(linha['x'], linha['y'], w0, w1, w2, bias)\n",
    "   classificacoes.append(classe)\n",
    "   \n",
    "dados['classe'] = classificacoes\n",
    "dados.head()"
   ]
  },
  {
   "cell_type": "code",
   "execution_count": 226,
   "id": "627cc568",
   "metadata": {},
   "outputs": [
    {
     "data": {
      "image/png": "[encoded data removed]",
      "text/plain": [
       "<Figure size 400x400 with 1 Axes>"
      ]
     },
     "metadata": {},
     "output_type": "display_data"
    }
   ],
   "source": [
    "plt.figure(figsize=(4,4))\n",
    "cores = ['blue' if c == 0 else 'green' for c in dados['classe']]\n",
    "plt.scatter(dados['x'], dados['y'], c = cores, s=10)\n",
    "\n",
    "eixox = np.linspace(0, 6, 100)\n",
    "eixoy = (w0 * -1) - eixox\n",
    "plt.plot(eixox, eixoy, 'r-', linewidth=1)\n",
    "\n",
    "plt.xlim(0,6)\n",
    "plt.ylim(0,6)\n",
    "plt.xlabel('x')\n",
    "plt.ylabel('y')\n",
    "plt.grid(True, alpha=0.3)\n",
    "plt.show()"
   ]
  }
 ],
 "metadata": {
  "kernelspec": {
   "display_name": "RNA",
   "language": "python",
   "name": "python3"
  },
  "language_info": {
   "codemirror_mode": {
    "name": "ipython",
    "version": 3
   },
   "file_extension": ".py",
   "mimetype": "text/x-python",
   "name": "python",
   "nbconvert_exporter": "python",
   "pygments_lexer": "ipython3",
   "version": "3.11.13"
  }
 },
 "nbformat": 4,
 "nbformat_minor": 5
}
