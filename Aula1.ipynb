{
 "cells": [
  {
   "cell_type": "markdown",
   "id": "b8902d50",
   "metadata": {},
   "source": [
    "# Atividade: Neurônio Artificial\n",
    "\n",
    "**INSTITUTO FEDERAL DE MINAS GERAIS BAMBUI**\n",
    "\n",
    "**Pofessor:** Ciniro Nametala\n",
    "\n",
    "**Aluno:** Ricardo Antonio"
   ]
  },
  {
   "cell_type": "code",
   "execution_count": 248,
   "id": "8526e8d4",
   "metadata": {},
   "outputs": [],
   "source": [
    "import numpy as np\n",
    "import pandas as pd\n",
    "import matplotlib.pyplot as plt"
   ]
  },
  {
   "cell_type": "code",
   "execution_count": 249,
   "id": "c68ae84c",
   "metadata": {},
   "outputs": [],
   "source": [
    "#função neuronio\n",
    "def neuronio(x,y,w0,w1,w2,bias):\n",
    "   somatorio_neuronios = x*w1 + y*w2\n",
    "   bia = bias*w0\n",
    "   return 1 if somatorio_neuronios - bia > 0 else 0"
   ]
  },
  {
   "cell_type": "code",
   "execution_count": 250,
   "id": "282d1be6",
   "metadata": {},
   "outputs": [
    {
     "data": {
      "image/png": "[encoded data removed]",
      "text/plain": [
       "<Figure size 1000x200 with 1 Axes>"
      ]
     },
     "metadata": {},
     "output_type": "display_data"
    }
   ],
   "source": [
    "dados = pd.read_csv('xy.csv', sep=';', decimal=',')\n",
    "\n",
    "dados['x'] = pd.to_numeric(dados['x'], errors='coerce')\n",
    "dados['y'] = pd.to_numeric(dados['y'], errors='coerce')\n",
    "\n",
    "dados.head()\n",
    "\n",
    "plt.figure(figsize=(10,2))\n",
    "plt.scatter(dados['x'], dados['y'], c='black', s=10)\n",
    "plt.xlim(0,6)\n",
    "plt.ylim(0,6)\n",
    "plt.xlabel(\"x\")\n",
    "plt.ylabel(\"y\")\n",
    "plt.grid(True, alpha=0.3)\n",
    "plt.show()\n"
   ]
  },
  {
   "cell_type": "code",
   "execution_count": null,
   "id": "6912d010",
   "metadata": {},
   "outputs": [
    {
     "data": {
      "text/html": [
       "<div>\n",
       "<style scoped>\n",
       "    .dataframe tbody tr th:only-of-type {\n",
       "        vertical-align: middle;\n",
       "    }\n",
       "\n",
       "    .dataframe tbody tr th {\n",
       "        vertical-align: top;\n",
       "    }\n",
       "\n",
       "    .dataframe thead th {\n",
       "        text-align: right;\n",
       "    }\n",
       "</style>\n",
       "<table border=\"1\" class=\"dataframe\">\n",
       "  <thead>\n",
       "    <tr style=\"text-align: right;\">\n",
       "      <th></th>\n",
       "      <th>x</th>\n",
       "      <th>y</th>\n",
       "      <th>classe</th>\n",
       "    </tr>\n",
       "  </thead>\n",
       "  <tbody>\n",
       "    <tr>\n",
       "      <th>0</th>\n",
       "      <td>1.183988</td>\n",
       "      <td>1.832880</td>\n",
       "      <td>0</td>\n",
       "    </tr>\n",
       "    <tr>\n",
       "      <th>1</th>\n",
       "      <td>1.523565</td>\n",
       "      <td>2.293337</td>\n",
       "      <td>0</td>\n",
       "    </tr>\n",
       "    <tr>\n",
       "      <th>2</th>\n",
       "      <td>2.199241</td>\n",
       "      <td>2.342880</td>\n",
       "      <td>0</td>\n",
       "    </tr>\n",
       "    <tr>\n",
       "      <th>3</th>\n",
       "      <td>2.768052</td>\n",
       "      <td>2.179136</td>\n",
       "      <td>0</td>\n",
       "    </tr>\n",
       "    <tr>\n",
       "      <th>4</th>\n",
       "      <td>2.165374</td>\n",
       "      <td>1.888445</td>\n",
       "      <td>0</td>\n",
       "    </tr>\n",
       "  </tbody>\n",
       "</table>\n",
       "</div>"
      ],
      "text/plain": [
       "          x         y  classe\n",
       "0  1.183988  1.832880       0\n",
       "1  1.523565  2.293337       0\n",
       "2  2.199241  2.342880       0\n",
       "3  2.768052  2.179136       0\n",
       "4  2.165374  1.888445       0"
      ]
     },
     "execution_count": 251,
     "metadata": {},
     "output_type": "execute_result"
    }
   ],
   "source": [
    "w0 = 6 #KKKKKKKKKKKKKKKKKKKKKKKKKKKKKKKKKKKKKKKKKKKKKKKK Roubei dms\n",
    "w1 = 1\n",
    "w2 = 1\n",
    "bias = 1\n",
    "\n",
    "classificacoes = []\n",
    "for i, linha in dados.iterrows():\n",
    "   classe = neuronio(linha['x'], linha['y'], w0, w1, w2, bias)\n",
    "   classificacoes.append(classe)\n",
    "   \n",
    "dados['classe'] = classificacoes\n",
    "dados.head()"
   ]
  },
  {
   "cell_type": "code",
   "execution_count": 252,
   "id": "627cc568",
   "metadata": {},
   "outputs": [
    {
     "data": {
      "image/png": "[encoded data removed]",
      "text/plain": [
       "<Figure size 400x400 with 1 Axes>"
      ]
     },
     "metadata": {},
     "output_type": "display_data"
    }
   ],
   "source": [
    "plt.figure(figsize=(4,4))\n",
    "cores = ['blue' if c == 0 else 'green' for c in dados['classe']]\n",
    "plt.scatter(dados['x'], dados['y'], c = cores, s=10)\n",
    "\n",
    "eixox = np.linspace(0, 6, 100)\n",
    "eixoy = w0 - eixox\n",
    "plt.plot(eixox, eixoy, 'r-', linewidth=1)\n",
    "\n",
    "plt.xlim(0,6)\n",
    "plt.ylim(0,6)\n",
    "plt.xlabel('x')\n",
    "plt.ylabel('y')\n",
    "plt.grid(True, alpha=0.3)\n",
    "plt.show()"
   ]
  }
 ],
 "metadata": {
  "kernelspec": {
   "display_name": "RNA",
   "language": "python",
   "name": "python3"
  },
  "language_info": {
   "codemirror_mode": {
    "name": "ipython",
    "version": 3
   },
   "file_extension": ".py",
   "mimetype": "text/x-python",
   "name": "python",
   "nbconvert_exporter": "python",
   "pygments_lexer": "ipython3",
   "version": "3.11.13"
  }
 },
 "nbformat": 4,
 "nbformat_minor": 5
}
