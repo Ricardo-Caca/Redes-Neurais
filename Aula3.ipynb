{
 "cells": [
  {
   "cell_type": "markdown",
   "id": "b8902d50",
   "metadata": {},
   "source": [
    "# Atividade: Petroleo\n",
    "\n",
    "**INSTITUTO FEDERAL DE MINAS GERAIS BAMBUI**\n",
    "\n",
    "**Pofessor:** Ciniro Nametala\n",
    "\n",
    "**Aluno:** Ricardo Antonio"
   ]
  },
  {
   "cell_type": "code",
   "execution_count": 1302,
   "id": "8086dfea",
   "metadata": {},
   "outputs": [],
   "source": [
    "import numpy as np\n",
    "import pandas as pd\n",
    "import matplotlib.pyplot as plt\n",
    "import pygwalker as pyg\n",
    "from sklearn.metrics import confusion_matrix, classification_report\n",
    "import seaborn as sns\n",
    "import plotly.graph_objects as go"
   ]
  },
  {
   "cell_type": "markdown",
   "id": "fe57ad50",
   "metadata": {},
   "source": [
    "<h2>Treinamento<h2>"
   ]
  },
  {
   "cell_type": "code",
   "execution_count": 1303,
   "id": "6876080b",
   "metadata": {},
   "outputs": [],
   "source": [
    "def degrau_bipolar(u):\n",
    "   if u >= 0:\n",
    "      y=1\n",
    "   else:\n",
    "      y=-1\n",
    "   return y"
   ]
  },
  {
   "cell_type": "code",
   "execution_count": 1304,
   "id": "15998381",
   "metadata": {},
   "outputs": [
    {
     "name": "stdout",
     "output_type": "stream",
     "text": [
      "(30, 5)\n",
      "3\n",
      "30\n"
     ]
    }
   ],
   "source": [
    "#Passo 1\n",
    "\n",
    "dados = pd.read_csv('petroleo_treino.csv', sep=';')\n",
    "print(dados.shape)\n",
    "n_variaveis = dados.shape[1]-2\n",
    "print(n_variaveis)\n",
    "n_amostras = dados.shape[0]\n",
    "print(n_amostras)\n",
    "# print(dados.head())\n",
    "x = dados.iloc[:, 1:n_variaveis+1].values\n",
    "# print(x)\n",
    "dados['x1'] = pd.to_numeric(dados['x1'], errors='coerce')\n",
    "dados['x2'] = pd.to_numeric(dados['x2'], errors='coerce')\n",
    "dados['x3'] = pd.to_numeric(dados['x3'], errors='coerce')\n",
    "dados['y'] = pd.to_numeric(dados['d'], errors='coerce')"
   ]
  },
  {
   "cell_type": "code",
   "execution_count": 1305,
   "id": "01ff4ed5",
   "metadata": {},
   "outputs": [
    {
     "data": {
      "application/vnd.plotly.v1+json": {
       "config": {
        "plotlyServerURL": "https://plot.ly"
       },
       "data": [
        {
         "marker": {
          "color": {
           "bdata": "AAAAAAAA8L8AAAAAAADwvwAAAAAAAPC/AAAAAAAA8L8AAAAAAADwPwAAAAAAAPA/AAAAAAAA8L8AAAAAAADwPwAAAAAAAPC/AAAAAAAA8D8AAAAAAADwvwAAAAAAAPC/AAAAAAAA8L8AAAAAAADwvwAAAAAAAPC/AAAAAAAA8L8AAAAAAADwPwAAAAAAAPA/AAAAAAAA8D8AAAAAAADwPwAAAAAAAPC/AAAAAAAA8D8AAAAAAADwPwAAAAAAAPA/AAAAAAAA8D8AAAAAAADwvwAAAAAAAPC/AAAAAAAA8D8AAAAAAADwvwAAAAAAAPA/",
           "dtype": "f8"
          },
          "colorscale": [
           [
            0,
            "#440154"
           ],
           [
            0.1111111111111111,
            "#482878"
           ],
           [
            0.2222222222222222,
            "#3e4989"
           ],
           [
            0.3333333333333333,
            "#31688e"
           ],
           [
            0.4444444444444444,
            "#26828e"
           ],
           [
            0.5555555555555556,
            "#1f9e89"
           ],
           [
            0.6666666666666666,
            "#35b779"
           ],
           [
            0.7777777777777778,
            "#6ece58"
           ],
           [
            0.8888888888888888,
            "#b5de2b"
           ],
           [
            1,
            "#fde725"
           ]
          ],
          "opacity": 0.8,
          "size": 6
         },
         "mode": "markers",
         "type": "scatter3d",
         "x": {
          "bdata": "3pOHhVrT5L+rz9VW7C/3v65H4XoUrgBAkX77OnDO0D9hVFInoInkP+LplbIMcdA/DAIrhxbZ8T/1udqK/WW3P4C3QILix4g/SS7/If32pb8tsp3vp8bbPxsv3SQGgdE/nDOitDf43j/PZtXnaivaPxHHuriNBvc/XrpJDAIr7b9tVn2utmLXP1OWIY51ccs/h6dXyjLEyT/J5T+k377kPz7o2az6XL2/Gy/dJAaB6b8AAAAAAADxvySX/5B+++A/hetRuB6F87+lvcEXJlPZP3S1FfvL7rm/oImw4emVA0DmriXkgx4AQP5D+u3rwMk/",
          "dtype": "f8"
         },
         "y": {
          "bdata": "9wZfmEwVvD/ysFBrmnfsP+JYF7fRAOY/zTtO0ZFc8j9Wn6ut2F/wP/Cnxks3ieU/LSEf9GxW4z/+Q/rt68DVPxniWBe30eA/bef7qfHS3T+WQ4ts5/vlP71SliGOdfA/zojS3uAL3z8PnDOitDfAv/CFyVTBqMQ/NxrAWyBByb/D9Shcj8LwPz81XrpJDOg/L26jAbwF8D8awFsgQfHLP4qw4emVssw/vp8aL90k7D90RpT2Bl/kP6abxCCwcsA/pSxDHOvi6D+WsgxxrIu7P3xhMlUwKuM/qMZLN4lB7j/G3LWEfNDjPxIUP8bctdA/",
          "dtype": "f8"
         },
         "z": {
          "bdata": "/kP67esAEEAnMQisHJoRQOOlm8Qg8B9AMQisHFokKECLbOf7qTEfQLpJDAIrpyBA1zTvOEXHHUC+wRcmU0UcQEmdgCbChhJAQj7o2ay6FUC+MJkqGHUgQIMvTKYKxhxAcT0K16PwHUAZc9cS8gEWQAkbnl4pKyFANs07TtGRAUBTliGOdfEdQJJc/kP6rRxA/Bhz1xIyGkCbVZ+rrZgXQNNNYhBY+RxApgpGJXUCD0BO0ZFc/sMDQOJYF7fRwBZAfPKwUGua+z8ukKD4MaYWQAskKH6MuRxAJQaBlUNrJkDRkVz+Q9olQEMc6+I22hVA",
          "dtype": "f8"
         }
        }
       ],
       "layout": {
        "scene": {
         "xaxis": {
          "title": {
           "text": "x1"
          }
         },
         "yaxis": {
          "title": {
           "text": "x2"
          }
         },
         "zaxis": {
          "title": {
           "text": "x3"
          }
         }
        },
        "template": {
         "data": {
          "bar": [
           {
            "error_x": {
             "color": "#2a3f5f"
            },
            "error_y": {
             "color": "#2a3f5f"
            },
            "marker": {
             "line": {
              "color": "#E5ECF6",
              "width": 0.5
             },
             "pattern": {
              "fillmode": "overlay",
              "size": 10,
              "solidity": 0.2
             }
            },
            "type": "bar"
           }
          ],
          "barpolar": [
           {
            "marker": {
             "line": {
              "color": "#E5ECF6",
              "width": 0.5
             },
             "pattern": {
              "fillmode": "overlay",
              "size": 10,
              "solidity": 0.2
             }
            },
            "type": "barpolar"
           }
          ],
          "carpet": [
           {
            "aaxis": {
             "endlinecolor": "#2a3f5f",
             "gridcolor": "white",
             "linecolor": "white",
             "minorgridcolor": "white",
             "startlinecolor": "#2a3f5f"
            },
            "baxis": {
             "endlinecolor": "#2a3f5f",
             "gridcolor": "white",
             "linecolor": "white",
             "minorgridcolor": "white",
             "startlinecolor": "#2a3f5f"
            },
            "type": "carpet"
           }
          ],
          "choropleth": [
           {
            "colorbar": {
             "outlinewidth": 0,
             "ticks": ""
            },
            "type": "choropleth"
           }
          ],
          "contour": [
           {
            "colorbar": {
             "outlinewidth": 0,
             "ticks": ""
            },
            "colorscale": [
             [
              0,
              "#0d0887"
             ],
             [
              0.1111111111111111,
              "#46039f"
             ],
             [
              0.2222222222222222,
              "#7201a8"
             ],
             [
              0.3333333333333333,
              "#9c179e"
             ],
             [
              0.4444444444444444,
              "#bd3786"
             ],
             [
              0.5555555555555556,
              "#d8576b"
             ],
             [
              0.6666666666666666,
              "#ed7953"
             ],
             [
              0.7777777777777778,
              "#fb9f3a"
             ],
             [
              0.8888888888888888,
              "#fdca26"
             ],
             [
              1,
              "#f0f921"
             ]
            ],
            "type": "contour"
           }
          ],
          "contourcarpet": [
           {
            "colorbar": {
             "outlinewidth": 0,
             "ticks": ""
            },
            "type": "contourcarpet"
           }
          ],
          "heatmap": [
           {
            "colorbar": {
             "outlinewidth": 0,
             "ticks": ""
            },
            "colorscale": [
             [
              0,
              "#0d0887"
             ],
             [
              0.1111111111111111,
              "#46039f"
             ],
             [
              0.2222222222222222,
              "#7201a8"
             ],
             [
              0.3333333333333333,
              "#9c179e"
             ],
             [
              0.4444444444444444,
              "#bd3786"
             ],
             [
              0.5555555555555556,
              "#d8576b"
             ],
             [
              0.6666666666666666,
              "#ed7953"
             ],
             [
              0.7777777777777778,
              "#fb9f3a"
             ],
             [
              0.8888888888888888,
              "#fdca26"
             ],
             [
              1,
              "#f0f921"
             ]
            ],
            "type": "heatmap"
           }
          ],
          "histogram": [
           {
            "marker": {
             "pattern": {
              "fillmode": "overlay",
              "size": 10,
              "solidity": 0.2
             }
            },
            "type": "histogram"
           }
          ],
          "histogram2d": [
           {
            "colorbar": {
             "outlinewidth": 0,
             "ticks": ""
            },
            "colorscale": [
             [
              0,
              "#0d0887"
             ],
             [
              0.1111111111111111,
              "#46039f"
             ],
             [
              0.2222222222222222,
              "#7201a8"
             ],
             [
              0.3333333333333333,
              "#9c179e"
             ],
             [
              0.4444444444444444,
              "#bd3786"
             ],
             [
              0.5555555555555556,
              "#d8576b"
             ],
             [
              0.6666666666666666,
              "#ed7953"
             ],
             [
              0.7777777777777778,
              "#fb9f3a"
             ],
             [
              0.8888888888888888,
              "#fdca26"
             ],
             [
              1,
              "#f0f921"
             ]
            ],
            "type": "histogram2d"
           }
          ],
          "histogram2dcontour": [
           {
            "colorbar": {
             "outlinewidth": 0,
             "ticks": ""
            },
            "colorscale": [
             [
              0,
              "#0d0887"
             ],
             [
              0.1111111111111111,
              "#46039f"
             ],
             [
              0.2222222222222222,
              "#7201a8"
             ],
             [
              0.3333333333333333,
              "#9c179e"
             ],
             [
              0.4444444444444444,
              "#bd3786"
             ],
             [
              0.5555555555555556,
              "#d8576b"
             ],
             [
              0.6666666666666666,
              "#ed7953"
             ],
             [
              0.7777777777777778,
              "#fb9f3a"
             ],
             [
              0.8888888888888888,
              "#fdca26"
             ],
             [
              1,
              "#f0f921"
             ]
            ],
            "type": "histogram2dcontour"
           }
          ],
          "mesh3d": [
           {
            "colorbar": {
             "outlinewidth": 0,
             "ticks": ""
            },
            "type": "mesh3d"
           }
          ],
          "parcoords": [
           {
            "line": {
             "colorbar": {
              "outlinewidth": 0,
              "ticks": ""
             }
            },
            "type": "parcoords"
           }
          ],
          "pie": [
           {
            "automargin": true,
            "type": "pie"
           }
          ],
          "scatter": [
           {
            "fillpattern": {
             "fillmode": "overlay",
             "size": 10,
             "solidity": 0.2
            },
            "type": "scatter"
           }
          ],
          "scatter3d": [
           {
            "line": {
             "colorbar": {
              "outlinewidth": 0,
              "ticks": ""
             }
            },
            "marker": {
             "colorbar": {
              "outlinewidth": 0,
              "ticks": ""
             }
            },
            "type": "scatter3d"
           }
          ],
          "scattercarpet": [
           {
            "marker": {
             "colorbar": {
              "outlinewidth": 0,
              "ticks": ""
             }
            },
            "type": "scattercarpet"
           }
          ],
          "scattergeo": [
           {
            "marker": {
             "colorbar": {
              "outlinewidth": 0,
              "ticks": ""
             }
            },
            "type": "scattergeo"
           }
          ],
          "scattergl": [
           {
            "marker": {
             "colorbar": {
              "outlinewidth": 0,
              "ticks": ""
             }
            },
            "type": "scattergl"
           }
          ],
          "scattermap": [
           {
            "marker": {
             "colorbar": {
              "outlinewidth": 0,
              "ticks": ""
             }
            },
            "type": "scattermap"
           }
          ],
          "scattermapbox": [
           {
            "marker": {
             "colorbar": {
              "outlinewidth": 0,
              "ticks": ""
             }
            },
            "type": "scattermapbox"
           }
          ],
          "scatterpolar": [
           {
            "marker": {
             "colorbar": {
              "outlinewidth": 0,
              "ticks": ""
             }
            },
            "type": "scatterpolar"
           }
          ],
          "scatterpolargl": [
           {
            "marker": {
             "colorbar": {
              "outlinewidth": 0,
              "ticks": ""
             }
            },
            "type": "scatterpolargl"
           }
          ],
          "scatterternary": [
           {
            "marker": {
             "colorbar": {
              "outlinewidth": 0,
              "ticks": ""
             }
            },
            "type": "scatterternary"
           }
          ],
          "surface": [
           {
            "colorbar": {
             "outlinewidth": 0,
             "ticks": ""
            },
            "colorscale": [
             [
              0,
              "#0d0887"
             ],
             [
              0.1111111111111111,
              "#46039f"
             ],
             [
              0.2222222222222222,
              "#7201a8"
             ],
             [
              0.3333333333333333,
              "#9c179e"
             ],
             [
              0.4444444444444444,
              "#bd3786"
             ],
             [
              0.5555555555555556,
              "#d8576b"
             ],
             [
              0.6666666666666666,
              "#ed7953"
             ],
             [
              0.7777777777777778,
              "#fb9f3a"
             ],
             [
              0.8888888888888888,
              "#fdca26"
             ],
             [
              1,
              "#f0f921"
             ]
            ],
            "type": "surface"
           }
          ],
          "table": [
           {
            "cells": {
             "fill": {
              "color": "#EBF0F8"
             },
             "line": {
              "color": "white"
             }
            },
            "header": {
             "fill": {
              "color": "#C8D4E3"
             },
             "line": {
              "color": "white"
             }
            },
            "type": "table"
           }
          ]
         },
         "layout": {
          "annotationdefaults": {
           "arrowcolor": "#2a3f5f",
           "arrowhead": 0,
           "arrowwidth": 1
          },
          "autotypenumbers": "strict",
          "coloraxis": {
           "colorbar": {
            "outlinewidth": 0,
            "ticks": ""
           }
          },
          "colorscale": {
           "diverging": [
            [
             0,
             "#8e0152"
            ],
            [
             0.1,
             "#c51b7d"
            ],
            [
             0.2,
             "#de77ae"
            ],
            [
             0.3,
             "#f1b6da"
            ],
            [
             0.4,
             "#fde0ef"
            ],
            [
             0.5,
             "#f7f7f7"
            ],
            [
             0.6,
             "#e6f5d0"
            ],
            [
             0.7,
             "#b8e186"
            ],
            [
             0.8,
             "#7fbc41"
            ],
            [
             0.9,
             "#4d9221"
            ],
            [
             1,
             "#276419"
            ]
           ],
           "sequential": [
            [
             0,
             "#0d0887"
            ],
            [
             0.1111111111111111,
             "#46039f"
            ],
            [
             0.2222222222222222,
             "#7201a8"
            ],
            [
             0.3333333333333333,
             "#9c179e"
            ],
            [
             0.4444444444444444,
             "#bd3786"
            ],
            [
             0.5555555555555556,
             "#d8576b"
            ],
            [
             0.6666666666666666,
             "#ed7953"
            ],
            [
             0.7777777777777778,
             "#fb9f3a"
            ],
            [
             0.8888888888888888,
             "#fdca26"
            ],
            [
             1,
             "#f0f921"
            ]
           ],
           "sequentialminus": [
            [
             0,
             "#0d0887"
            ],
            [
             0.1111111111111111,
             "#46039f"
            ],
            [
             0.2222222222222222,
             "#7201a8"
            ],
            [
             0.3333333333333333,
             "#9c179e"
            ],
            [
             0.4444444444444444,
             "#bd3786"
            ],
            [
             0.5555555555555556,
             "#d8576b"
            ],
            [
             0.6666666666666666,
             "#ed7953"
            ],
            [
             0.7777777777777778,
             "#fb9f3a"
            ],
            [
             0.8888888888888888,
             "#fdca26"
            ],
            [
             1,
             "#f0f921"
            ]
           ]
          },
          "colorway": [
           "#636efa",
           "#EF553B",
           "#00cc96",
           "#ab63fa",
           "#FFA15A",
           "#19d3f3",
           "#FF6692",
           "#B6E880",
           "#FF97FF",
           "#FECB52"
          ],
          "font": {
           "color": "#2a3f5f"
          },
          "geo": {
           "bgcolor": "white",
           "lakecolor": "white",
           "landcolor": "#E5ECF6",
           "showlakes": true,
           "showland": true,
           "subunitcolor": "white"
          },
          "hoverlabel": {
           "align": "left"
          },
          "hovermode": "closest",
          "mapbox": {
           "style": "light"
          },
          "paper_bgcolor": "white",
          "plot_bgcolor": "#E5ECF6",
          "polar": {
           "angularaxis": {
            "gridcolor": "white",
            "linecolor": "white",
            "ticks": ""
           },
           "bgcolor": "#E5ECF6",
           "radialaxis": {
            "gridcolor": "white",
            "linecolor": "white",
            "ticks": ""
           }
          },
          "scene": {
           "xaxis": {
            "backgroundcolor": "#E5ECF6",
            "gridcolor": "white",
            "gridwidth": 2,
            "linecolor": "white",
            "showbackground": true,
            "ticks": "",
            "zerolinecolor": "white"
           },
           "yaxis": {
            "backgroundcolor": "#E5ECF6",
            "gridcolor": "white",
            "gridwidth": 2,
            "linecolor": "white",
            "showbackground": true,
            "ticks": "",
            "zerolinecolor": "white"
           },
           "zaxis": {
            "backgroundcolor": "#E5ECF6",
            "gridcolor": "white",
            "gridwidth": 2,
            "linecolor": "white",
            "showbackground": true,
            "ticks": "",
            "zerolinecolor": "white"
           }
          },
          "shapedefaults": {
           "line": {
            "color": "#2a3f5f"
           }
          },
          "ternary": {
           "aaxis": {
            "gridcolor": "white",
            "linecolor": "white",
            "ticks": ""
           },
           "baxis": {
            "gridcolor": "white",
            "linecolor": "white",
            "ticks": ""
           },
           "bgcolor": "#E5ECF6",
           "caxis": {
            "gridcolor": "white",
            "linecolor": "white",
            "ticks": ""
           }
          },
          "title": {
           "x": 0.05
          },
          "xaxis": {
           "automargin": true,
           "gridcolor": "white",
           "linecolor": "white",
           "ticks": "",
           "title": {
            "standoff": 15
           },
           "zerolinecolor": "white",
           "zerolinewidth": 2
          },
          "yaxis": {
           "automargin": true,
           "gridcolor": "white",
           "linecolor": "white",
           "ticks": "",
           "title": {
            "standoff": 15
           },
           "zerolinecolor": "white",
           "zerolinewidth": 2
          }
         }
        },
        "title": {
         "text": "Gráfico 3D - Plotly"
        }
       }
      }
     },
     "metadata": {},
     "output_type": "display_data"
    }
   ],
   "source": [
    "# -------------------------------\n",
    "# 3. Plotly (interativo)\n",
    "# -------------------------------\n",
    "fig = go.Figure(data=[go.Scatter3d(\n",
    "    x=dados['x1'], y=dados['x2'], z=dados['x3'],\n",
    "    mode='markers',\n",
    "    marker=dict(\n",
    "        size=6,\n",
    "        color=dados['y'],      # cor baseada em y\n",
    "        colorscale='Viridis',\n",
    "        opacity=0.8\n",
    "    )\n",
    ")])\n",
    "fig.update_layout(scene=dict(\n",
    "    xaxis_title='x1',\n",
    "    yaxis_title='x2',\n",
    "    zaxis_title='x3'),\n",
    "    title=\"Gráfico 3D - Plotly\"\n",
    ")\n",
    "fig.show()\n",
    "\n",
    "#Olhando o grafico acho que não é possivel classificar com apenas uma linha, \n",
    "#Pois a maioria das amarelas ficam no meio das roxas"
   ]
  },
  {
   "cell_type": "code",
   "execution_count": 1306,
   "id": "741ded92",
   "metadata": {},
   "outputs": [],
   "source": [
    "bias = np.ones((n_amostras,1)) * -1\n",
    "x = np.hstack((x,bias))\n",
    "# print(x)"
   ]
  },
  {
   "cell_type": "code",
   "execution_count": 1307,
   "id": "b646824c",
   "metadata": {},
   "outputs": [
    {
     "name": "stdout",
     "output_type": "stream",
     "text": [
      "-1: 16\n",
      "1: 14\n"
     ]
    }
   ],
   "source": [
    "#Passo 2\n",
    "y = dados.iloc[:, 5].values\n",
    "# print(y)\n",
    "\n",
    "print(f\"-1: {(y == -1).sum()}\")\n",
    "print(f\"1: {(y == 1).sum()}\")"
   ]
  },
  {
   "cell_type": "code",
   "execution_count": 1308,
   "id": "183ae240",
   "metadata": {},
   "outputs": [],
   "source": [
    "#Passo 3\n",
    "quantRoda = 5\n",
    "pesosAntes = []\n",
    "pesosDepois = []\n",
    "for i in range(quantRoda):\n",
    "   \n",
    "   w = np.random.uniform(-1, 1, n_variaveis+1)\n",
    "   pesosAntes.append(w.copy())\n",
    "\n",
    "   #Passo 4\n",
    "   #taxa de aprendizagem eta\n",
    "   eta = 0.01\n",
    "\n",
    "   #Passo 5\n",
    "   #n_amostras\n",
    "\n",
    "   #Passo 6\n",
    "   tolerancia = 0.01\n",
    "\n",
    "   #Passo 7\n",
    "   erro_medio = tolerancia + 1\n",
    "\n",
    "   #Passo 8\n",
    "   erro_epocas = []\n",
    "\n",
    "   #Passo 9\n",
    "   epoca = 0\n",
    "\n",
    "   #Passo 10\n",
    "   max_epocas = 1000\n",
    "\n",
    "   #Passo 11\n",
    "   criterio_erro = True\n",
    "   criterio_epoca = True\n",
    "\n",
    "   #Passo 12 13 14 15 16 17 18 19 20 21 22 23 24\n",
    "   while(criterio_epoca and criterio_erro):\n",
    "      erro_atual = 0\n",
    "      epoca = epoca + 1\n",
    "      \n",
    "      indices_embaralhados = np.random.permutation(n_amostras)\n",
    "      for i in range(n_amostras):\n",
    "         indice_amostra = indices_embaralhados[i]\n",
    "         xi_amostra = x[indice_amostra, :]\n",
    "         u = np.dot(w.T, xi_amostra)\n",
    "         yhat = degrau_bipolar(u)\n",
    "         e = y[indice_amostra] - yhat\n",
    "         w = w + ((eta * e) * xi_amostra)\n",
    "         erro_atual = erro_atual + np.abs(e)\n",
    "         \n",
    "      erro_medio = erro_atual/n_amostras\n",
    "      erro_epocas.append(erro_medio)\n",
    "      \n",
    "      if erro_medio <= tolerancia:\n",
    "         criterio_erro = False\n",
    "      if epoca >= max_epocas:\n",
    "         criterio_epoca = False\n",
    "   pesosDepois.append(w.copy())"
   ]
  },
  {
   "cell_type": "code",
   "execution_count": 1309,
   "id": "bacbaebe",
   "metadata": {},
   "outputs": [
    {
     "data": {
      "image/png": "[encoded data removed]",
      "text/plain": [
       "<Figure size 800x600 with 1 Axes>"
      ]
     },
     "metadata": {},
     "output_type": "display_data"
    }
   ],
   "source": [
    "# -------------------------------\n",
    "# CONVERGENCIA DE ERROS\n",
    "# -------------------------------\n",
    "plt.figure(figsize=(8,6))\n",
    "plt.plot(erro_epocas[:max_epocas])\n",
    "plt.title(\"Convergencia do erro\")\n",
    "plt.xlabel(\"Quant epocas\")\n",
    "plt.ylabel(\"Erro\")\n",
    "plt.grid\n",
    "plt.show()\n"
   ]
  },
  {
   "cell_type": "code",
   "execution_count": 1310,
   "id": "fd36d8a4",
   "metadata": {},
   "outputs": [
    {
     "data": {
      "image/png": "[encoded data removed]",
      "text/plain": [
       "<Figure size 800x300 with 1 Axes>"
      ]
     },
     "metadata": {},
     "output_type": "display_data"
    }
   ],
   "source": [
    "col_labels = [\"Peso Antes\", \"Peso Depois\"]\n",
    "table_data = [\n",
    "    [np.round(pesosAntes[i], 3), np.round(pesosDepois[i], 3)]\n",
    "    for i in range(quantRoda)\n",
    "]\n",
    "\n",
    "fig, ax = plt.subplots(figsize=(8, 3))\n",
    "ax.axis(\"off\")\n",
    "table = ax.table(\n",
    "    cellText=table_data,\n",
    "    colLabels=col_labels,\n",
    "    loc=\"center\",\n",
    "    cellLoc=\"center\",\n",
    ")\n",
    "table.auto_set_font_size(False)\n",
    "table.set_fontsize(9)\n",
    "table.scale(1.2, 1.5)\n",
    "\n",
    "plt.title(\"Resultados das 5 Iterações\", fontsize=12, weight=\"bold\")\n",
    "plt.show()"
   ]
  },
  {
   "cell_type": "markdown",
   "id": "0eb54889",
   "metadata": {},
   "source": [
    "<h1>Previsão com dados Treino</h1>"
   ]
  },
  {
   "cell_type": "code",
   "execution_count": 1311,
   "id": "69d1a2e7",
   "metadata": {},
   "outputs": [],
   "source": [
    "def previsao(w, x):\n",
    "   u = np.dot(w.T, x)\n",
    "   yhat = degrau_bipolar(u)\n",
    "   return yhat"
   ]
  },
  {
   "cell_type": "code",
   "execution_count": 1312,
   "id": "0eb54889",
   "metadata": {},
   "outputs": [],
   "source": [
    "# Cria um vetor para receber todas as previsoes realizadas pela RNA\n",
    "\n",
    "yhat = np.zeros(n_amostras)\n",
    "listayHat = []\n",
    "#Armazenar todas as previsoes uma para cada amostra\n",
    "for j in range(quantRoda):\n",
    "   for i in range(n_amostras):\n",
    "      # print(\"Previsao\", j ,\"com os pesos - \", pesosDepois[j])\n",
    "      yhat[i] = previsao(pesosDepois[j], x[i,:])\n",
    "      # print(\"Que deu,\", yhat[i])\n",
    "   listayHat.append(yhat)\n",
    "   yhat = np.zeros(n_amostras)\n",
    "   \n",
    "listayHat = np.array(listayHat)\n",
    "# print(listayHat)"
   ]
  },
  {
   "cell_type": "markdown",
   "id": "7573f83d",
   "metadata": {},
   "source": [
    "<h4>ANÁLISE DA QUALIDADE DE CLASSIFICAÇÃO</h4>"
   ]
  },
  {
   "cell_type": "code",
   "execution_count": 1313,
   "id": "2ac50e63",
   "metadata": {},
   "outputs": [
    {
     "name": "stdout",
     "output_type": "stream",
     "text": [
      "MATRIZ DE CONFUSÂO PESOS[ 0 ]\n"
     ]
    },
    {
     "data": {
      "image/png": "[encoded data removed]",
      "text/plain": [
       "<Figure size 400x300 with 2 Axes>"
      ]
     },
     "metadata": {},
     "output_type": "display_data"
    },
    {
     "name": "stdout",
     "output_type": "stream",
     "text": [
      "MATRIZ DE CONFUSÂO PESOS[ 1 ]\n"
     ]
    },
    {
     "data": {
      "image/png": "[encoded data removed]",
      "text/plain": [
       "<Figure size 400x300 with 2 Axes>"
      ]
     },
     "metadata": {},
     "output_type": "display_data"
    },
    {
     "name": "stdout",
     "output_type": "stream",
     "text": [
      "MATRIZ DE CONFUSÂO PESOS[ 2 ]\n"
     ]
    },
    {
     "data": {
      "image/png": "[encoded data removed]",
      "text/plain": [
       "<Figure size 400x300 with 2 Axes>"
      ]
     },
     "metadata": {},
     "output_type": "display_data"
    },
    {
     "name": "stdout",
     "output_type": "stream",
     "text": [
      "MATRIZ DE CONFUSÂO PESOS[ 3 ]\n"
     ]
    },
    {
     "data": {
      "image/png": "[encoded data removed]",
      "text/plain": [
       "<Figure size 400x300 with 2 Axes>"
      ]
     },
     "metadata": {},
     "output_type": "display_data"
    },
    {
     "name": "stdout",
     "output_type": "stream",
     "text": [
      "MATRIZ DE CONFUSÂO PESOS[ 4 ]\n"
     ]
    },
    {
     "data": {
      "image/png": "[encoded data removed]",
      "text/plain": [
       "<Figure size 400x300 with 2 Axes>"
      ]
     },
     "metadata": {},
     "output_type": "display_data"
    }
   ],
   "source": [
    "#converter -1 em 0\n",
    "yhat_display = np.where(listayHat == -1,0,listayHat)\n",
    "y_display = np.where(y == -1,0,y)\n",
    "# print(yhat_display)\n",
    "#gera a matriz de confusao\n",
    "\n",
    "\n",
    "#TAVA MUITO POLUIDO SE QUISER VER DEIXA TRUE\n",
    "queroVerConfusao = True\n",
    "if queroVerConfusao:\n",
    "   for i in range(quantRoda):\n",
    "      cm = confusion_matrix(y_display, yhat_display[i])\n",
    "      print('MATRIZ DE CONFUSÂO PESOS[', i,']')\n",
    "      # print(cm)\n",
    "\n",
    "      #plotar matriz de confusão crocante\n",
    "      plt.figure(figsize=(4,3))\n",
    "      sns.heatmap(cm, annot=True, fmt='d', cmap='Blues',\n",
    "                  xticklabels=['P1', 'P2'], yticklabels=['P1', 'P2'])\n",
    "\n",
    "      plt.title('Matriz de confusão')\n",
    "      plt.xlabel('Valor real')\n",
    "      plt.ylabel('Valor predito')\n",
    "      plt.show()"
   ]
  },
  {
   "cell_type": "code",
   "execution_count": 1314,
   "id": "7c8fecf1",
   "metadata": {},
   "outputs": [
    {
     "data": {
      "image/png": "[encoded data removed]",
      "text/plain": [
       "<Figure size 800x300 with 1 Axes>"
      ]
     },
     "metadata": {},
     "output_type": "display_data"
    }
   ],
   "source": [
    "acuracias = []\n",
    "\n",
    "for i in range(quantRoda):\n",
    "    acuracia = np.sum(listayHat[i] == y) / n_amostras\n",
    "    acuracias.append(acuracia * 100)\n",
    "\n",
    "# --- Criação da tabela com Matplotlib ---\n",
    "col_labels = [\"Iteração\", \"Pesos\", \"Acurácia (%)\"]\n",
    "table_data = [\n",
    "    [i+1, np.round(pesosDepois[i], 3), round(acuracias[i], 2)] for i in range(quantRoda)\n",
    "]\n",
    "\n",
    "fig, ax = plt.subplots(figsize=(8, 3))\n",
    "ax.axis(\"off\")\n",
    "\n",
    "table = ax.table(\n",
    "    cellText=table_data,\n",
    "    colLabels=col_labels,\n",
    "    loc=\"center\",\n",
    "    cellLoc=\"center\"\n",
    ")\n",
    "\n",
    "table.auto_set_font_size(False)\n",
    "table.set_fontsize(9)\n",
    "table.scale(1.2, 1.5)\n",
    "\n",
    "plt.title(\"Pesos e Acurácias\", fontsize=12, weight=\"bold\")\n",
    "plt.show()"
   ]
  },
  {
   "cell_type": "markdown",
   "id": "d1bf785e",
   "metadata": {},
   "source": [
    "<h1>Previsão com dados de teste<h1>"
   ]
  },
  {
   "cell_type": "code",
   "execution_count": 1315,
   "id": "0802dcda",
   "metadata": {},
   "outputs": [
    {
     "name": "stdout",
     "output_type": "stream",
     "text": [
      "[[-0.3665  0.062   5.9891 -1.    ]\n",
      " [-0.7842  1.1267  5.5912 -1.    ]\n",
      " [ 0.3012  0.5611  5.8234 -1.    ]\n",
      " [ 0.7757  1.0648  8.0677 -1.    ]\n",
      " [ 0.157   0.8028  6.304  -1.    ]\n",
      " [-0.7014  1.0316  3.6005 -1.    ]\n",
      " [ 0.3748  0.1536  6.1537 -1.    ]\n",
      " [-0.692   0.9404  4.4058 -1.    ]\n",
      " [-1.397   0.7141  4.9263 -1.    ]\n",
      " [-1.8842  0.2805  1.2548 -1.    ]]\n"
     ]
    }
   ],
   "source": [
    "dados = pd.read_csv('petroleo_teste.csv', sep=';')\n",
    "n_variaveis = dados.shape[1]-1\n",
    "# print(n_variaveis)\n",
    "n_amostras = dados.shape[0]\n",
    "# print(n_amostras)\n",
    "x = dados.iloc[:, 0:n_variaveis].values\n",
    "\n",
    "bias = np.ones((n_amostras,1)) * -1\n",
    "x = np.hstack((x,bias))\n",
    "print(x)"
   ]
  },
  {
   "cell_type": "code",
   "execution_count": 1316,
   "id": "10c4a4bc",
   "metadata": {},
   "outputs": [],
   "source": [
    "listayHat = []\n",
    "yhat = np.zeros(n_amostras)\n",
    "#Armazenar todas as previsoes uma para cada amostra\n",
    "for j in range(quantRoda):\n",
    "   for i in range(n_amostras):\n",
    "      # print(\"Previsao\", j ,\"com os pesos - \", pesosDepois[j])\n",
    "      yhat[i] = previsao(pesosDepois[j], x[i,:])\n",
    "      # print(\"Que deu,\", yhat[i])\n",
    "   listayHat.append(yhat)\n",
    "   yhat = np.zeros(n_amostras)\n",
    "listayHat = np.array(listayHat)\n",
    "# print(listayHat)"
   ]
  },
  {
   "cell_type": "code",
   "execution_count": 1317,
   "id": "26737ed4",
   "metadata": {},
   "outputs": [
    {
     "data": {
      "image/png": "[encoded data removed]",
      "text/plain": [
       "<Figure size 900x400 with 1 Axes>"
      ]
     },
     "metadata": {},
     "output_type": "display_data"
    }
   ],
   "source": [
    "Xdados = x[:, :n_variaveis]\n",
    "\n",
    "# Cria rótulos das colunas\n",
    "col_labels = [\"Amostra\", \"X1\", \"X2\", \"X3\"] + [f\"Ŷ(T{i+1})\" for i in range(listayHat.shape[0])]\n",
    "\n",
    "# Monta os dados da tabela\n",
    "table_data = []\n",
    "for i in range(x.shape[0]):\n",
    "    linha = [\n",
    "        i + 1,\n",
    "        f\"{Xdados[i,0]:.4f}\",\n",
    "        f\"{Xdados[i,1]:.4f}\",\n",
    "        f\"{Xdados[i,2]:.4f}\",\n",
    "    ]\n",
    "    linha += [int(listayHat[j, i]) for j in range(listayHat.shape[0])]\n",
    "    table_data.append(linha)\n",
    "\n",
    "# Cria a tabela com Matplotlib\n",
    "fig, ax = plt.subplots(figsize=(9, 4))\n",
    "ax.axis('off')\n",
    "\n",
    "table = ax.table(\n",
    "    cellText=table_data,\n",
    "    colLabels=col_labels,\n",
    "    loc='center',\n",
    "    cellLoc='center'\n",
    ")\n",
    "\n",
    "table.auto_set_font_size(False)\n",
    "table.set_fontsize(9)\n",
    "table.scale(1.2, 1.4)\n",
    "\n",
    "plt.title(\"Previsões da RNA por Amostra e Iteração\", fontsize=12, weight='bold')\n",
    "plt.show()"
   ]
  },
  {
   "cell_type": "markdown",
   "id": "e32c1c88",
   "metadata": {},
   "source": [
    "<style>\n",
    "  p {\n",
    "    font-size: 16px;\n",
    "    margin-bottom: 8px;\n",
    "  }\n",
    "  .resposta {\n",
    "    color: green;\n",
    "    font-weight: 500;\n",
    "    font-size: 20px;\n",
    "    display: block;\n",
    "    margin-bottom: 15px;\n",
    "  }\n",
    "\n",
    "</style>\n",
    "<h2>Perguntas<h2>\n",
    "\n",
    "<p>5) Qual o efeito de aumentar ou diminuir o número de épocas na qualidade dos resultados?</p>\n",
    "<span class=\"resposta\">R: Não, a partir da época 200 a 400, ele já atingiu o erro mínimo possível e fica perdido.</span>\n",
    "\n",
    "<p>6) Qual o efeito de aumentar ou diminuir a taxa de aprendizagem na qualidade dos resultados?</p>\n",
    "<span class=\"resposta\">R: Testei com a taxa de aprendizagem entre 0.01 e 1. Senti que a diferença da acurácia e as iterações aumentava conforme ela aumentava também. Porém independente da taxa de aprendizagem a média entre as acurácias sempre pendia a 60%. <br>\n",
    "E na convergencia do erro que é onde ele impacta diretamente, não senti tanta diferença.</span>\n",
    "\n",
    "<p>7) Discorra se é possível afirmar se as suas classes, neste problema, são linearmente separáveis.</p>\n",
    "<span class=\"resposta\">R: Ao bater o olho no gráfico já percebi que não eram, pois não importava o quanto eu girasse, nunca conseguia achar uma linha que separava as bolinhas roxas das amarelas.</span>\n"
   ]
  }
 ],
 "metadata": {
  "kernelspec": {
   "display_name": "RNA",
   "language": "python",
   "name": "python3"
  },
  "language_info": {
   "codemirror_mode": {
    "name": "ipython",
    "version": 3
   },
   "file_extension": ".py",
   "mimetype": "text/x-python",
   "name": "python",
   "nbconvert_exporter": "python",
   "pygments_lexer": "ipython3",
   "version": "3.11.13"
  }
 },
 "nbformat": 4,
 "nbformat_minor": 5
}
